{
 "cells": [
  {
   "cell_type": "code",
   "execution_count": 42,
   "id": "9073f519",
   "metadata": {},
   "outputs": [
    {
     "data": {
      "text/plain": [
       "(100000, 4)"
      ]
     },
     "execution_count": 42,
     "metadata": {},
     "output_type": "execute_result"
    }
   ],
   "source": [
    "import pandas as pd\n",
    "import numpy as np\n",
    "import matplotlib.pyplot as plt\n",
    "%matplotlib inline\n",
    "import calendar\n",
    "import datetime\n",
    "df = pd.read_csv('Data_Analyst_Take_Home.csv')\n",
    "df.shape"
   ]
  },
  {
   "cell_type": "code",
   "execution_count": 11,
   "id": "6d0e4488",
   "metadata": {
    "scrolled": true
   },
   "outputs": [
    {
     "data": {
      "text/html": [
       "<div>\n",
       "<style scoped>\n",
       "    .dataframe tbody tr th:only-of-type {\n",
       "        vertical-align: middle;\n",
       "    }\n",
       "\n",
       "    .dataframe tbody tr th {\n",
       "        vertical-align: top;\n",
       "    }\n",
       "\n",
       "    .dataframe thead th {\n",
       "        text-align: right;\n",
       "    }\n",
       "</style>\n",
       "<table border=\"1\" class=\"dataframe\">\n",
       "  <thead>\n",
       "    <tr style=\"text-align: right;\">\n",
       "      <th></th>\n",
       "      <th>Date</th>\n",
       "      <th>CustomerId</th>\n",
       "      <th>orderid</th>\n",
       "      <th>RestaurantId</th>\n",
       "    </tr>\n",
       "  </thead>\n",
       "  <tbody>\n",
       "    <tr>\n",
       "      <th>0</th>\n",
       "      <td>2021-01-30</td>\n",
       "      <td>rededuf</td>\n",
       "      <td>49087764</td>\n",
       "      <td>1280</td>\n",
       "    </tr>\n",
       "    <tr>\n",
       "      <th>1</th>\n",
       "      <td>2021-02-11</td>\n",
       "      <td>1deesus</td>\n",
       "      <td>50281843</td>\n",
       "      <td>1280</td>\n",
       "    </tr>\n",
       "    <tr>\n",
       "      <th>2</th>\n",
       "      <td>2021-02-13</td>\n",
       "      <td>1usrfdn</td>\n",
       "      <td>50515965</td>\n",
       "      <td>1280</td>\n",
       "    </tr>\n",
       "    <tr>\n",
       "      <th>3</th>\n",
       "      <td>2021-02-14</td>\n",
       "      <td>eeddrdn</td>\n",
       "      <td>50655182</td>\n",
       "      <td>1280</td>\n",
       "    </tr>\n",
       "    <tr>\n",
       "      <th>4</th>\n",
       "      <td>2021-02-15</td>\n",
       "      <td>1rr1u1n</td>\n",
       "      <td>50760529</td>\n",
       "      <td>1280</td>\n",
       "    </tr>\n",
       "  </tbody>\n",
       "</table>\n",
       "</div>"
      ],
      "text/plain": [
       "         Date CustomerId   orderid  RestaurantId\n",
       "0  2021-01-30    rededuf  49087764          1280\n",
       "1  2021-02-11    1deesus  50281843          1280\n",
       "2  2021-02-13    1usrfdn  50515965          1280\n",
       "3  2021-02-14    eeddrdn  50655182          1280\n",
       "4  2021-02-15    1rr1u1n  50760529          1280"
      ]
     },
     "execution_count": 11,
     "metadata": {},
     "output_type": "execute_result"
    }
   ],
   "source": [
    "df.head()\n"
   ]
  },
  {
   "cell_type": "code",
   "execution_count": 14,
   "id": "5b3de4e6",
   "metadata": {},
   "outputs": [
    {
     "data": {
      "text/plain": [
       "array(['rededuf', '1deesus', '1usrfdn', ..., '1ussnnu', '1uefedu',\n",
       "       '12rn2ru'], dtype=object)"
      ]
     },
     "execution_count": 14,
     "metadata": {},
     "output_type": "execute_result"
    }
   ],
   "source": [
    "#finds the different customer IDs\n",
    "df['CustomerId'].unique()"
   ]
  },
  {
   "cell_type": "code",
   "execution_count": 16,
   "id": "7576a050",
   "metadata": {},
   "outputs": [
    {
     "data": {
      "text/plain": [
       "1udns1n    56\n",
       "1udd2n2    47\n",
       "1ue2du2    47\n",
       "1nusf12    40\n",
       "1ndnues    39\n",
       "           ..\n",
       "1uefneu     1\n",
       "1unds2r     1\n",
       "1unufnd     1\n",
       "1uffs1u     1\n",
       "12rn2ru     1\n",
       "Name: CustomerId, Length: 42443, dtype: int64"
      ]
     },
     "execution_count": 16,
     "metadata": {},
     "output_type": "execute_result"
    }
   ],
   "source": [
    "#count how many times each customerID occurs\n",
    "CustomerId = df['CustomerId'].value_counts()\n",
    "CustomerId"
   ]
  },
  {
   "cell_type": "code",
   "execution_count": 22,
   "id": "127ad64d",
   "metadata": {},
   "outputs": [
    {
     "data": {
      "text/plain": [
       "count    42443.000000\n",
       "mean         2.356101\n",
       "std          2.457000\n",
       "min          1.000000\n",
       "25%          1.000000\n",
       "50%          1.000000\n",
       "75%          3.000000\n",
       "max         56.000000\n",
       "Name: CustomerId, dtype: float64"
      ]
     },
     "execution_count": 22,
     "metadata": {},
     "output_type": "execute_result"
    }
   ],
   "source": [
    "#this statistical description of Customer orders\n",
    "CustomerId.describe()"
   ]
  },
  {
   "cell_type": "code",
   "execution_count": 25,
   "id": "2bee778b",
   "metadata": {},
   "outputs": [
    {
     "data": {
      "text/plain": [
       "1    21990\n",
       "Name: CustomerId, dtype: int64"
      ]
     },
     "execution_count": 25,
     "metadata": {},
     "output_type": "execute_result"
    }
   ],
   "source": [
    "#number of customers with orders equal to 1\n",
    "CustomerId.value_counts()[:1]"
   ]
  },
  {
   "cell_type": "code",
   "execution_count": 31,
   "id": "e813f200",
   "metadata": {},
   "outputs": [
    {
     "data": {
      "text/plain": [
       "1717"
      ]
     },
     "execution_count": 31,
     "metadata": {},
     "output_type": "execute_result"
    }
   ],
   "source": [
    "#number of customers with orders greater than 8\n",
    "sum(CustomerId.value_counts()[7:])"
   ]
  },
  {
   "cell_type": "code",
   "execution_count": 13,
   "id": "7578f585",
   "metadata": {},
   "outputs": [
    {
     "data": {
      "text/plain": [
       "2021-02-12    1656\n",
       "2021-02-13    1611\n",
       "2021-02-14    1610\n",
       "2021-02-05    1587\n",
       "2021-02-06    1546\n",
       "2021-01-29    1397\n",
       "2021-01-30    1380\n",
       "Name: Date, dtype: int64"
      ]
     },
     "execution_count": 13,
     "metadata": {},
     "output_type": "execute_result"
    }
   ],
   "source": [
    "#date with 7th highest orders for the period\n",
    "df['Date'].value_counts()[:7]\n"
   ]
  },
  {
   "cell_type": "code",
   "execution_count": 64,
   "id": "348b4639",
   "metadata": {},
   "outputs": [
    {
     "data": {
      "text/html": [
       "<div>\n",
       "<style scoped>\n",
       "    .dataframe tbody tr th:only-of-type {\n",
       "        vertical-align: middle;\n",
       "    }\n",
       "\n",
       "    .dataframe tbody tr th {\n",
       "        vertical-align: top;\n",
       "    }\n",
       "\n",
       "    .dataframe thead th {\n",
       "        text-align: right;\n",
       "    }\n",
       "</style>\n",
       "<table border=\"1\" class=\"dataframe\">\n",
       "  <thead>\n",
       "    <tr style=\"text-align: right;\">\n",
       "      <th></th>\n",
       "      <th>Date</th>\n",
       "      <th>CustomerId</th>\n",
       "      <th>orderid</th>\n",
       "      <th>RestaurantId</th>\n",
       "    </tr>\n",
       "  </thead>\n",
       "  <tbody>\n",
       "    <tr>\n",
       "      <th>15</th>\n",
       "      <td>2021-03-19</td>\n",
       "      <td>1srss1e</td>\n",
       "      <td>54184762</td>\n",
       "      <td>3328</td>\n",
       "    </tr>\n",
       "    <tr>\n",
       "      <th>16</th>\n",
       "      <td>2021-03-23</td>\n",
       "      <td>nsr2du2</td>\n",
       "      <td>54592066</td>\n",
       "      <td>3328</td>\n",
       "    </tr>\n",
       "    <tr>\n",
       "      <th>17</th>\n",
       "      <td>2021-03-27</td>\n",
       "      <td>rdnfdud</td>\n",
       "      <td>55151789</td>\n",
       "      <td>3328</td>\n",
       "    </tr>\n",
       "    <tr>\n",
       "      <th>37</th>\n",
       "      <td>2021-03-02</td>\n",
       "      <td>ns1dnrr</td>\n",
       "      <td>52365711</td>\n",
       "      <td>11776</td>\n",
       "    </tr>\n",
       "    <tr>\n",
       "      <th>38</th>\n",
       "      <td>2021-03-12</td>\n",
       "      <td>1u1un1u</td>\n",
       "      <td>53382330</td>\n",
       "      <td>11776</td>\n",
       "    </tr>\n",
       "    <tr>\n",
       "      <th>...</th>\n",
       "      <td>...</td>\n",
       "      <td>...</td>\n",
       "      <td>...</td>\n",
       "      <td>...</td>\n",
       "    </tr>\n",
       "    <tr>\n",
       "      <th>99978</th>\n",
       "      <td>2021-03-23</td>\n",
       "      <td>1uesnfe</td>\n",
       "      <td>54599938</td>\n",
       "      <td>15615</td>\n",
       "    </tr>\n",
       "    <tr>\n",
       "      <th>99982</th>\n",
       "      <td>2021-03-25</td>\n",
       "      <td>1neudee</td>\n",
       "      <td>54786419</td>\n",
       "      <td>15871</td>\n",
       "    </tr>\n",
       "    <tr>\n",
       "      <th>99983</th>\n",
       "      <td>2021-03-03</td>\n",
       "      <td>1sfdf2s</td>\n",
       "      <td>52496925</td>\n",
       "      <td>16127</td>\n",
       "    </tr>\n",
       "    <tr>\n",
       "      <th>99984</th>\n",
       "      <td>2021-03-05</td>\n",
       "      <td>1uefedu</td>\n",
       "      <td>52742225</td>\n",
       "      <td>16127</td>\n",
       "    </tr>\n",
       "    <tr>\n",
       "      <th>99988</th>\n",
       "      <td>2021-03-18</td>\n",
       "      <td>112sdds</td>\n",
       "      <td>54053114</td>\n",
       "      <td>17407</td>\n",
       "    </tr>\n",
       "  </tbody>\n",
       "</table>\n",
       "<p>17096 rows × 4 columns</p>\n",
       "</div>"
      ],
      "text/plain": [
       "            Date CustomerId   orderid  RestaurantId\n",
       "15    2021-03-19    1srss1e  54184762          3328\n",
       "16    2021-03-23    nsr2du2  54592066          3328\n",
       "17    2021-03-27    rdnfdud  55151789          3328\n",
       "37    2021-03-02    ns1dnrr  52365711         11776\n",
       "38    2021-03-12    1u1un1u  53382330         11776\n",
       "...          ...        ...       ...           ...\n",
       "99978 2021-03-23    1uesnfe  54599938         15615\n",
       "99982 2021-03-25    1neudee  54786419         15871\n",
       "99983 2021-03-03    1sfdf2s  52496925         16127\n",
       "99984 2021-03-05    1uefedu  52742225         16127\n",
       "99988 2021-03-18    112sdds  54053114         17407\n",
       "\n",
       "[17096 rows x 4 columns]"
      ]
     },
     "execution_count": 64,
     "metadata": {},
     "output_type": "execute_result"
    }
   ],
   "source": [
    "#June orders\n",
    "df['Date'] = pd.to_datetime(df['Date'])\n",
    "start_date = '2021-06-01'\n",
    "end_date = '2021-06-30'\n",
    "mask = (df['Date'] >= start_date) & (df['Date']<= end_date)\n",
    "\n",
    "June_orders = df.loc[mask]\n",
    "June_orders"
   ]
  },
  {
   "cell_type": "code",
   "execution_count": 65,
   "id": "87076eb5",
   "metadata": {},
   "outputs": [
    {
     "data": {
      "text/plain": [
       "17096"
      ]
     },
     "execution_count": 65,
     "metadata": {},
     "output_type": "execute_result"
    }
   ],
   "source": [
    "#RestaurantID with highest orders in June\n",
    "sum(June_orders['RestaurantId'].value_counts())\n"
   ]
  },
  {
   "cell_type": "code",
   "execution_count": 36,
   "id": "98781ce2",
   "metadata": {},
   "outputs": [
    {
     "data": {
      "text/plain": [
       "1udns1n    56\n",
       "1udd2n2    47\n",
       "1ue2du2    47\n",
       "1nusf12    40\n",
       "1ndnues    39\n",
       "1u1f1dr    37\n",
       "1uuness    36\n",
       "1ud1sed    35\n",
       "1uesnfe    34\n",
       "1u1fnrd    33\n",
       "Name: CustomerId, dtype: int64"
      ]
     },
     "execution_count": 36,
     "metadata": {},
     "output_type": "execute_result"
    }
   ],
   "source": [
    "#python function that returns \n",
    "ten_highest = pd.read_csv('Data_Analyst_Take_Home.csv')['CustomerId'].value_counts()[:10]\n",
    "ten_highest"
   ]
  }
 ],
 "metadata": {
  "kernelspec": {
   "display_name": "Python 3 (ipykernel)",
   "language": "python",
   "name": "python3"
  },
  "language_info": {
   "codemirror_mode": {
    "name": "ipython",
    "version": 3
   },
   "file_extension": ".py",
   "mimetype": "text/x-python",
   "name": "python",
   "nbconvert_exporter": "python",
   "pygments_lexer": "ipython3",
   "version": "3.9.12"
  }
 },
 "nbformat": 4,
 "nbformat_minor": 5
}
