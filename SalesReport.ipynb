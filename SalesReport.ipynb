{
 "cells": [
  {
   "cell_type": "markdown",
   "id": "0e707a8e",
   "metadata": {},
   "source": [
    "# Sales Analysis"
   ]
  },
  {
   "cell_type": "markdown",
   "id": "5f0c7f11",
   "metadata": {},
   "source": [
    "### Import Required Libraries"
   ]
  },
  {
   "cell_type": "code",
   "execution_count": 72,
   "id": "aa803232",
   "metadata": {},
   "outputs": [],
   "source": [
    "import pandas as pd\n",
    "import seaborn as sn\n",
    "import os\n",
    "import matplotlib.pyplot as plt"
   ]
  },
  {
   "cell_type": "markdown",
   "id": "9be94f12",
   "metadata": {},
   "source": [
    "### Merge data from all months into one dataframe"
   ]
  },
  {
   "cell_type": "code",
   "execution_count": 3,
   "id": "67493f74",
   "metadata": {},
   "outputs": [],
   "source": [
    "path = \"./Sales_Data\"\n",
    "files = [file for file in os.listdir(path) if not file.startswith('.')]\n",
    "\n",
    "all_months = pd.DataFrame()\n",
    "\n",
    "for file in files:\n",
    "    current_data = pd.read_csv(path+\"/\"+file)\n",
    "    all_months = pd.concat([all_months,current_data])\n",
    "    \n",
    "all_months.to_csv(\"sales_data.csv\", index = False)\n"
   ]
  },
  {
   "cell_type": "markdown",
   "id": "ec51be0c",
   "metadata": {},
   "source": [
    "#### Read in updated dataframe"
   ]
  },
  {
   "cell_type": "code",
   "execution_count": 4,
   "id": "e734915b",
   "metadata": {},
   "outputs": [
    {
     "data": {
      "text/html": [
       "<div>\n",
       "<style scoped>\n",
       "    .dataframe tbody tr th:only-of-type {\n",
       "        vertical-align: middle;\n",
       "    }\n",
       "\n",
       "    .dataframe tbody tr th {\n",
       "        vertical-align: top;\n",
       "    }\n",
       "\n",
       "    .dataframe thead th {\n",
       "        text-align: right;\n",
       "    }\n",
       "</style>\n",
       "<table border=\"1\" class=\"dataframe\">\n",
       "  <thead>\n",
       "    <tr style=\"text-align: right;\">\n",
       "      <th></th>\n",
       "      <th>Order ID</th>\n",
       "      <th>Product</th>\n",
       "      <th>Quantity Ordered</th>\n",
       "      <th>Price Each</th>\n",
       "      <th>Order Date</th>\n",
       "      <th>Purchase Address</th>\n",
       "    </tr>\n",
       "  </thead>\n",
       "  <tbody>\n",
       "    <tr>\n",
       "      <th>0</th>\n",
       "      <td>176558</td>\n",
       "      <td>USB-C Charging Cable</td>\n",
       "      <td>2</td>\n",
       "      <td>11.95</td>\n",
       "      <td>04/19/19 08:46</td>\n",
       "      <td>917 1st St, Dallas, TX 75001</td>\n",
       "    </tr>\n",
       "    <tr>\n",
       "      <th>1</th>\n",
       "      <td>NaN</td>\n",
       "      <td>NaN</td>\n",
       "      <td>NaN</td>\n",
       "      <td>NaN</td>\n",
       "      <td>NaN</td>\n",
       "      <td>NaN</td>\n",
       "    </tr>\n",
       "    <tr>\n",
       "      <th>2</th>\n",
       "      <td>176559</td>\n",
       "      <td>Bose SoundSport Headphones</td>\n",
       "      <td>1</td>\n",
       "      <td>99.99</td>\n",
       "      <td>04/07/19 22:30</td>\n",
       "      <td>682 Chestnut St, Boston, MA 02215</td>\n",
       "    </tr>\n",
       "    <tr>\n",
       "      <th>3</th>\n",
       "      <td>176560</td>\n",
       "      <td>Google Phone</td>\n",
       "      <td>1</td>\n",
       "      <td>600</td>\n",
       "      <td>04/12/19 14:38</td>\n",
       "      <td>669 Spruce St, Los Angeles, CA 90001</td>\n",
       "    </tr>\n",
       "    <tr>\n",
       "      <th>4</th>\n",
       "      <td>176560</td>\n",
       "      <td>Wired Headphones</td>\n",
       "      <td>1</td>\n",
       "      <td>11.99</td>\n",
       "      <td>04/12/19 14:38</td>\n",
       "      <td>669 Spruce St, Los Angeles, CA 90001</td>\n",
       "    </tr>\n",
       "  </tbody>\n",
       "</table>\n",
       "</div>"
      ],
      "text/plain": [
       "  Order ID                     Product Quantity Ordered Price Each  \\\n",
       "0   176558        USB-C Charging Cable                2      11.95   \n",
       "1      NaN                         NaN              NaN        NaN   \n",
       "2   176559  Bose SoundSport Headphones                1      99.99   \n",
       "3   176560                Google Phone                1        600   \n",
       "4   176560            Wired Headphones                1      11.99   \n",
       "\n",
       "       Order Date                      Purchase Address  \n",
       "0  04/19/19 08:46          917 1st St, Dallas, TX 75001  \n",
       "1             NaN                                   NaN  \n",
       "2  04/07/19 22:30     682 Chestnut St, Boston, MA 02215  \n",
       "3  04/12/19 14:38  669 Spruce St, Los Angeles, CA 90001  \n",
       "4  04/12/19 14:38  669 Spruce St, Los Angeles, CA 90001  "
      ]
     },
     "execution_count": 4,
     "metadata": {},
     "output_type": "execute_result"
    }
   ],
   "source": [
    "df = pd.read_csv(\"sales_data.csv\")\n",
    "df.head()"
   ]
  },
  {
   "cell_type": "code",
   "execution_count": 5,
   "id": "09cb622c",
   "metadata": {},
   "outputs": [
    {
     "data": {
      "text/plain": [
       "(186850, 6)"
      ]
     },
     "execution_count": 5,
     "metadata": {},
     "output_type": "execute_result"
    }
   ],
   "source": [
    "df.shape"
   ]
  },
  {
   "cell_type": "markdown",
   "id": "1d2cecac",
   "metadata": {},
   "source": [
    "### Data Cleaning\n",
    "\n",
    "Replace values or remove rows with invalid data. Convert data types to suit what we need. "
   ]
  },
  {
   "cell_type": "markdown",
   "id": "939eb102",
   "metadata": {},
   "source": [
    "#### Drop rows of NaN"
   ]
  },
  {
   "cell_type": "code",
   "execution_count": 6,
   "id": "2bd4bb64",
   "metadata": {},
   "outputs": [
    {
     "data": {
      "text/html": [
       "<div>\n",
       "<style scoped>\n",
       "    .dataframe tbody tr th:only-of-type {\n",
       "        vertical-align: middle;\n",
       "    }\n",
       "\n",
       "    .dataframe tbody tr th {\n",
       "        vertical-align: top;\n",
       "    }\n",
       "\n",
       "    .dataframe thead th {\n",
       "        text-align: right;\n",
       "    }\n",
       "</style>\n",
       "<table border=\"1\" class=\"dataframe\">\n",
       "  <thead>\n",
       "    <tr style=\"text-align: right;\">\n",
       "      <th></th>\n",
       "      <th>Order ID</th>\n",
       "      <th>Product</th>\n",
       "      <th>Quantity Ordered</th>\n",
       "      <th>Price Each</th>\n",
       "      <th>Order Date</th>\n",
       "      <th>Purchase Address</th>\n",
       "    </tr>\n",
       "  </thead>\n",
       "  <tbody>\n",
       "    <tr>\n",
       "      <th>1</th>\n",
       "      <td>NaN</td>\n",
       "      <td>NaN</td>\n",
       "      <td>NaN</td>\n",
       "      <td>NaN</td>\n",
       "      <td>NaN</td>\n",
       "      <td>NaN</td>\n",
       "    </tr>\n",
       "    <tr>\n",
       "      <th>356</th>\n",
       "      <td>NaN</td>\n",
       "      <td>NaN</td>\n",
       "      <td>NaN</td>\n",
       "      <td>NaN</td>\n",
       "      <td>NaN</td>\n",
       "      <td>NaN</td>\n",
       "    </tr>\n",
       "    <tr>\n",
       "      <th>735</th>\n",
       "      <td>NaN</td>\n",
       "      <td>NaN</td>\n",
       "      <td>NaN</td>\n",
       "      <td>NaN</td>\n",
       "      <td>NaN</td>\n",
       "      <td>NaN</td>\n",
       "    </tr>\n",
       "    <tr>\n",
       "      <th>1433</th>\n",
       "      <td>NaN</td>\n",
       "      <td>NaN</td>\n",
       "      <td>NaN</td>\n",
       "      <td>NaN</td>\n",
       "      <td>NaN</td>\n",
       "      <td>NaN</td>\n",
       "    </tr>\n",
       "    <tr>\n",
       "      <th>1553</th>\n",
       "      <td>NaN</td>\n",
       "      <td>NaN</td>\n",
       "      <td>NaN</td>\n",
       "      <td>NaN</td>\n",
       "      <td>NaN</td>\n",
       "      <td>NaN</td>\n",
       "    </tr>\n",
       "  </tbody>\n",
       "</table>\n",
       "</div>"
      ],
      "text/plain": [
       "     Order ID Product Quantity Ordered Price Each Order Date Purchase Address\n",
       "1         NaN     NaN              NaN        NaN        NaN              NaN\n",
       "356       NaN     NaN              NaN        NaN        NaN              NaN\n",
       "735       NaN     NaN              NaN        NaN        NaN              NaN\n",
       "1433      NaN     NaN              NaN        NaN        NaN              NaN\n",
       "1553      NaN     NaN              NaN        NaN        NaN              NaN"
      ]
     },
     "metadata": {},
     "output_type": "display_data"
    },
    {
     "data": {
      "text/html": [
       "<div>\n",
       "<style scoped>\n",
       "    .dataframe tbody tr th:only-of-type {\n",
       "        vertical-align: middle;\n",
       "    }\n",
       "\n",
       "    .dataframe tbody tr th {\n",
       "        vertical-align: top;\n",
       "    }\n",
       "\n",
       "    .dataframe thead th {\n",
       "        text-align: right;\n",
       "    }\n",
       "</style>\n",
       "<table border=\"1\" class=\"dataframe\">\n",
       "  <thead>\n",
       "    <tr style=\"text-align: right;\">\n",
       "      <th></th>\n",
       "      <th>Order ID</th>\n",
       "      <th>Product</th>\n",
       "      <th>Quantity Ordered</th>\n",
       "      <th>Price Each</th>\n",
       "      <th>Order Date</th>\n",
       "      <th>Purchase Address</th>\n",
       "    </tr>\n",
       "  </thead>\n",
       "  <tbody>\n",
       "    <tr>\n",
       "      <th>0</th>\n",
       "      <td>176558</td>\n",
       "      <td>USB-C Charging Cable</td>\n",
       "      <td>2</td>\n",
       "      <td>11.95</td>\n",
       "      <td>04/19/19 08:46</td>\n",
       "      <td>917 1st St, Dallas, TX 75001</td>\n",
       "    </tr>\n",
       "    <tr>\n",
       "      <th>2</th>\n",
       "      <td>176559</td>\n",
       "      <td>Bose SoundSport Headphones</td>\n",
       "      <td>1</td>\n",
       "      <td>99.99</td>\n",
       "      <td>04/07/19 22:30</td>\n",
       "      <td>682 Chestnut St, Boston, MA 02215</td>\n",
       "    </tr>\n",
       "    <tr>\n",
       "      <th>3</th>\n",
       "      <td>176560</td>\n",
       "      <td>Google Phone</td>\n",
       "      <td>1</td>\n",
       "      <td>600</td>\n",
       "      <td>04/12/19 14:38</td>\n",
       "      <td>669 Spruce St, Los Angeles, CA 90001</td>\n",
       "    </tr>\n",
       "    <tr>\n",
       "      <th>4</th>\n",
       "      <td>176560</td>\n",
       "      <td>Wired Headphones</td>\n",
       "      <td>1</td>\n",
       "      <td>11.99</td>\n",
       "      <td>04/12/19 14:38</td>\n",
       "      <td>669 Spruce St, Los Angeles, CA 90001</td>\n",
       "    </tr>\n",
       "    <tr>\n",
       "      <th>5</th>\n",
       "      <td>176561</td>\n",
       "      <td>Wired Headphones</td>\n",
       "      <td>1</td>\n",
       "      <td>11.99</td>\n",
       "      <td>04/30/19 09:27</td>\n",
       "      <td>333 8th St, Los Angeles, CA 90001</td>\n",
       "    </tr>\n",
       "  </tbody>\n",
       "</table>\n",
       "</div>"
      ],
      "text/plain": [
       "  Order ID                     Product Quantity Ordered Price Each  \\\n",
       "0   176558        USB-C Charging Cable                2      11.95   \n",
       "2   176559  Bose SoundSport Headphones                1      99.99   \n",
       "3   176560                Google Phone                1        600   \n",
       "4   176560            Wired Headphones                1      11.99   \n",
       "5   176561            Wired Headphones                1      11.99   \n",
       "\n",
       "       Order Date                      Purchase Address  \n",
       "0  04/19/19 08:46          917 1st St, Dallas, TX 75001  \n",
       "2  04/07/19 22:30     682 Chestnut St, Boston, MA 02215  \n",
       "3  04/12/19 14:38  669 Spruce St, Los Angeles, CA 90001  \n",
       "4  04/12/19 14:38  669 Spruce St, Los Angeles, CA 90001  \n",
       "5  04/30/19 09:27     333 8th St, Los Angeles, CA 90001  "
      ]
     },
     "execution_count": 6,
     "metadata": {},
     "output_type": "execute_result"
    }
   ],
   "source": [
    "nan_df = df[df.isna().any(axis=1)]\n",
    "display(nan_df.head())\n",
    "\n",
    "df = df.dropna(how='all')\n",
    "df.head()"
   ]
  },
  {
   "cell_type": "code",
   "execution_count": 7,
   "id": "2840c928",
   "metadata": {},
   "outputs": [
    {
     "data": {
      "text/plain": [
       "(186305, 6)"
      ]
     },
     "execution_count": 7,
     "metadata": {},
     "output_type": "execute_result"
    }
   ],
   "source": [
    "df.shape"
   ]
  },
  {
   "cell_type": "markdown",
   "id": "7ab40170",
   "metadata": {},
   "source": [
    "original dataframe had 186850 rows and new dateframe has 186305 rows. 545 rows with invalid data have been removed"
   ]
  },
  {
   "cell_type": "markdown",
   "id": "4dde8047",
   "metadata": {},
   "source": [
    "##### check null values"
   ]
  },
  {
   "cell_type": "code",
   "execution_count": 8,
   "id": "7ddf2549",
   "metadata": {},
   "outputs": [
    {
     "data": {
      "text/plain": [
       "<bound method NDFrame._add_numeric_operations.<locals>.sum of         Order ID  Product  Quantity Ordered  Price Each  Order Date  \\\n",
       "0          False    False             False       False       False   \n",
       "2          False    False             False       False       False   \n",
       "3          False    False             False       False       False   \n",
       "4          False    False             False       False       False   \n",
       "5          False    False             False       False       False   \n",
       "...          ...      ...               ...         ...         ...   \n",
       "186845     False    False             False       False       False   \n",
       "186846     False    False             False       False       False   \n",
       "186847     False    False             False       False       False   \n",
       "186848     False    False             False       False       False   \n",
       "186849     False    False             False       False       False   \n",
       "\n",
       "        Purchase Address  \n",
       "0                  False  \n",
       "2                  False  \n",
       "3                  False  \n",
       "4                  False  \n",
       "5                  False  \n",
       "...                  ...  \n",
       "186845             False  \n",
       "186846             False  \n",
       "186847             False  \n",
       "186848             False  \n",
       "186849             False  \n",
       "\n",
       "[186305 rows x 6 columns]>"
      ]
     },
     "execution_count": 8,
     "metadata": {},
     "output_type": "execute_result"
    }
   ],
   "source": [
    "df.isnull().sum"
   ]
  },
  {
   "cell_type": "markdown",
   "id": "0208dbe4",
   "metadata": {},
   "source": [
    "no null values found"
   ]
  },
  {
   "cell_type": "markdown",
   "id": "b294e1af",
   "metadata": {},
   "source": [
    "#### check if there are dupliates"
   ]
  },
  {
   "cell_type": "code",
   "execution_count": 9,
   "id": "beb82b0a",
   "metadata": {},
   "outputs": [
    {
     "data": {
      "text/html": [
       "<div>\n",
       "<style scoped>\n",
       "    .dataframe tbody tr th:only-of-type {\n",
       "        vertical-align: middle;\n",
       "    }\n",
       "\n",
       "    .dataframe tbody tr th {\n",
       "        vertical-align: top;\n",
       "    }\n",
       "\n",
       "    .dataframe thead th {\n",
       "        text-align: right;\n",
       "    }\n",
       "</style>\n",
       "<table border=\"1\" class=\"dataframe\">\n",
       "  <thead>\n",
       "    <tr style=\"text-align: right;\">\n",
       "      <th></th>\n",
       "      <th>Order ID</th>\n",
       "      <th>Product</th>\n",
       "      <th>Quantity Ordered</th>\n",
       "      <th>Price Each</th>\n",
       "      <th>Order Date</th>\n",
       "      <th>Purchase Address</th>\n",
       "    </tr>\n",
       "  </thead>\n",
       "  <tbody>\n",
       "    <tr>\n",
       "      <th>31</th>\n",
       "      <td>176585</td>\n",
       "      <td>Bose SoundSport Headphones</td>\n",
       "      <td>1</td>\n",
       "      <td>99.99</td>\n",
       "      <td>04/07/19 11:31</td>\n",
       "      <td>823 Highland St, Boston, MA 02215</td>\n",
       "    </tr>\n",
       "    <tr>\n",
       "      <th>1149</th>\n",
       "      <td>Order ID</td>\n",
       "      <td>Product</td>\n",
       "      <td>Quantity Ordered</td>\n",
       "      <td>Price Each</td>\n",
       "      <td>Order Date</td>\n",
       "      <td>Purchase Address</td>\n",
       "    </tr>\n",
       "    <tr>\n",
       "      <th>1155</th>\n",
       "      <td>Order ID</td>\n",
       "      <td>Product</td>\n",
       "      <td>Quantity Ordered</td>\n",
       "      <td>Price Each</td>\n",
       "      <td>Order Date</td>\n",
       "      <td>Purchase Address</td>\n",
       "    </tr>\n",
       "    <tr>\n",
       "      <th>1302</th>\n",
       "      <td>177795</td>\n",
       "      <td>Apple Airpods Headphones</td>\n",
       "      <td>1</td>\n",
       "      <td>150</td>\n",
       "      <td>04/27/19 19:45</td>\n",
       "      <td>740 14th St, Seattle, WA 98101</td>\n",
       "    </tr>\n",
       "    <tr>\n",
       "      <th>1684</th>\n",
       "      <td>178158</td>\n",
       "      <td>USB-C Charging Cable</td>\n",
       "      <td>1</td>\n",
       "      <td>11.95</td>\n",
       "      <td>04/28/19 21:13</td>\n",
       "      <td>197 Center St, San Francisco, CA 94016</td>\n",
       "    </tr>\n",
       "    <tr>\n",
       "      <th>...</th>\n",
       "      <td>...</td>\n",
       "      <td>...</td>\n",
       "      <td>...</td>\n",
       "      <td>...</td>\n",
       "      <td>...</td>\n",
       "      <td>...</td>\n",
       "    </tr>\n",
       "    <tr>\n",
       "      <th>186563</th>\n",
       "      <td>Order ID</td>\n",
       "      <td>Product</td>\n",
       "      <td>Quantity Ordered</td>\n",
       "      <td>Price Each</td>\n",
       "      <td>Order Date</td>\n",
       "      <td>Purchase Address</td>\n",
       "    </tr>\n",
       "    <tr>\n",
       "      <th>186632</th>\n",
       "      <td>Order ID</td>\n",
       "      <td>Product</td>\n",
       "      <td>Quantity Ordered</td>\n",
       "      <td>Price Each</td>\n",
       "      <td>Order Date</td>\n",
       "      <td>Purchase Address</td>\n",
       "    </tr>\n",
       "    <tr>\n",
       "      <th>186738</th>\n",
       "      <td>Order ID</td>\n",
       "      <td>Product</td>\n",
       "      <td>Quantity Ordered</td>\n",
       "      <td>Price Each</td>\n",
       "      <td>Order Date</td>\n",
       "      <td>Purchase Address</td>\n",
       "    </tr>\n",
       "    <tr>\n",
       "      <th>186782</th>\n",
       "      <td>259296</td>\n",
       "      <td>Apple Airpods Headphones</td>\n",
       "      <td>1</td>\n",
       "      <td>150</td>\n",
       "      <td>09/28/19 16:48</td>\n",
       "      <td>894 6th St, Dallas, TX 75001</td>\n",
       "    </tr>\n",
       "    <tr>\n",
       "      <th>186785</th>\n",
       "      <td>259297</td>\n",
       "      <td>Lightning Charging Cable</td>\n",
       "      <td>1</td>\n",
       "      <td>14.95</td>\n",
       "      <td>09/15/19 18:54</td>\n",
       "      <td>138 Main St, Boston, MA 02215</td>\n",
       "    </tr>\n",
       "  </tbody>\n",
       "</table>\n",
       "<p>618 rows × 6 columns</p>\n",
       "</div>"
      ],
      "text/plain": [
       "        Order ID                     Product  Quantity Ordered  Price Each  \\\n",
       "31        176585  Bose SoundSport Headphones                 1       99.99   \n",
       "1149    Order ID                     Product  Quantity Ordered  Price Each   \n",
       "1155    Order ID                     Product  Quantity Ordered  Price Each   \n",
       "1302      177795    Apple Airpods Headphones                 1         150   \n",
       "1684      178158        USB-C Charging Cable                 1       11.95   \n",
       "...          ...                         ...               ...         ...   \n",
       "186563  Order ID                     Product  Quantity Ordered  Price Each   \n",
       "186632  Order ID                     Product  Quantity Ordered  Price Each   \n",
       "186738  Order ID                     Product  Quantity Ordered  Price Each   \n",
       "186782    259296    Apple Airpods Headphones                 1         150   \n",
       "186785    259297    Lightning Charging Cable                 1       14.95   \n",
       "\n",
       "            Order Date                        Purchase Address  \n",
       "31      04/07/19 11:31       823 Highland St, Boston, MA 02215  \n",
       "1149        Order Date                        Purchase Address  \n",
       "1155        Order Date                        Purchase Address  \n",
       "1302    04/27/19 19:45          740 14th St, Seattle, WA 98101  \n",
       "1684    04/28/19 21:13  197 Center St, San Francisco, CA 94016  \n",
       "...                ...                                     ...  \n",
       "186563      Order Date                        Purchase Address  \n",
       "186632      Order Date                        Purchase Address  \n",
       "186738      Order Date                        Purchase Address  \n",
       "186782  09/28/19 16:48            894 6th St, Dallas, TX 75001  \n",
       "186785  09/15/19 18:54           138 Main St, Boston, MA 02215  \n",
       "\n",
       "[618 rows x 6 columns]"
      ]
     },
     "execution_count": 9,
     "metadata": {},
     "output_type": "execute_result"
    }
   ],
   "source": [
    "df[df.duplicated()]"
   ]
  },
  {
   "cell_type": "markdown",
   "id": "9fa7e632",
   "metadata": {},
   "source": [
    "618 rows of duplicate data have been found and notice that some rows have the heading name as an entry in the cells, which means that when merging the data, the headings from other sheets were taken as data. \n",
    "******************"
   ]
  },
  {
   "cell_type": "markdown",
   "id": "b905355c",
   "metadata": {},
   "source": [
    "##### remove duplicates"
   ]
  },
  {
   "cell_type": "code",
   "execution_count": 10,
   "id": "8ce8463a",
   "metadata": {},
   "outputs": [
    {
     "data": {
      "text/html": [
       "<div>\n",
       "<style scoped>\n",
       "    .dataframe tbody tr th:only-of-type {\n",
       "        vertical-align: middle;\n",
       "    }\n",
       "\n",
       "    .dataframe tbody tr th {\n",
       "        vertical-align: top;\n",
       "    }\n",
       "\n",
       "    .dataframe thead th {\n",
       "        text-align: right;\n",
       "    }\n",
       "</style>\n",
       "<table border=\"1\" class=\"dataframe\">\n",
       "  <thead>\n",
       "    <tr style=\"text-align: right;\">\n",
       "      <th></th>\n",
       "      <th>Order ID</th>\n",
       "      <th>Product</th>\n",
       "      <th>Quantity Ordered</th>\n",
       "      <th>Price Each</th>\n",
       "      <th>Order Date</th>\n",
       "      <th>Purchase Address</th>\n",
       "    </tr>\n",
       "  </thead>\n",
       "  <tbody>\n",
       "  </tbody>\n",
       "</table>\n",
       "</div>"
      ],
      "text/plain": [
       "Empty DataFrame\n",
       "Columns: [Order ID, Product, Quantity Ordered, Price Each, Order Date, Purchase Address]\n",
       "Index: []"
      ]
     },
     "execution_count": 10,
     "metadata": {},
     "output_type": "execute_result"
    }
   ],
   "source": [
    "df.drop_duplicates(inplace = True)\n",
    "df[df.duplicated()]"
   ]
  },
  {
   "cell_type": "code",
   "execution_count": 11,
   "id": "9b2b5a65",
   "metadata": {},
   "outputs": [
    {
     "data": {
      "text/plain": [
       "(185687, 6)"
      ]
     },
     "execution_count": 11,
     "metadata": {},
     "output_type": "execute_result"
    }
   ],
   "source": [
    "df.shape"
   ]
  },
  {
   "cell_type": "markdown",
   "id": "be7229ce",
   "metadata": {},
   "source": [
    "all duplicated data has been removed"
   ]
  },
  {
   "cell_type": "code",
   "execution_count": 12,
   "id": "731566b2",
   "metadata": {},
   "outputs": [
    {
     "data": {
      "text/html": [
       "<div>\n",
       "<style scoped>\n",
       "    .dataframe tbody tr th:only-of-type {\n",
       "        vertical-align: middle;\n",
       "    }\n",
       "\n",
       "    .dataframe tbody tr th {\n",
       "        vertical-align: top;\n",
       "    }\n",
       "\n",
       "    .dataframe thead th {\n",
       "        text-align: right;\n",
       "    }\n",
       "</style>\n",
       "<table border=\"1\" class=\"dataframe\">\n",
       "  <thead>\n",
       "    <tr style=\"text-align: right;\">\n",
       "      <th></th>\n",
       "      <th>Order ID</th>\n",
       "      <th>Product</th>\n",
       "      <th>Quantity Ordered</th>\n",
       "      <th>Price Each</th>\n",
       "      <th>Order Date</th>\n",
       "      <th>Purchase Address</th>\n",
       "    </tr>\n",
       "  </thead>\n",
       "  <tbody>\n",
       "    <tr>\n",
       "      <th>519</th>\n",
       "      <td>Order ID</td>\n",
       "      <td>Product</td>\n",
       "      <td>Quantity Ordered</td>\n",
       "      <td>Price Each</td>\n",
       "      <td>Order Date</td>\n",
       "      <td>Purchase Address</td>\n",
       "    </tr>\n",
       "  </tbody>\n",
       "</table>\n",
       "</div>"
      ],
      "text/plain": [
       "     Order ID  Product  Quantity Ordered  Price Each  Order Date  \\\n",
       "519  Order ID  Product  Quantity Ordered  Price Each  Order Date   \n",
       "\n",
       "     Purchase Address  \n",
       "519  Purchase Address  "
      ]
     },
     "execution_count": 12,
     "metadata": {},
     "output_type": "execute_result"
    }
   ],
   "source": [
    "df[df[\"Order ID\"] == \"Order ID\"]"
   ]
  },
  {
   "cell_type": "code",
   "execution_count": 13,
   "id": "d8fefed0",
   "metadata": {},
   "outputs": [
    {
     "data": {
      "text/plain": [
       "(185686, 6)"
      ]
     },
     "execution_count": 13,
     "metadata": {},
     "output_type": "execute_result"
    }
   ],
   "source": [
    "df.drop([519], axis = 0, inplace = True)\n",
    "df.shape"
   ]
  },
  {
   "cell_type": "code",
   "execution_count": 14,
   "id": "76ed4ce0",
   "metadata": {},
   "outputs": [
    {
     "data": {
      "text/html": [
       "<div>\n",
       "<style scoped>\n",
       "    .dataframe tbody tr th:only-of-type {\n",
       "        vertical-align: middle;\n",
       "    }\n",
       "\n",
       "    .dataframe tbody tr th {\n",
       "        vertical-align: top;\n",
       "    }\n",
       "\n",
       "    .dataframe thead th {\n",
       "        text-align: right;\n",
       "    }\n",
       "</style>\n",
       "<table border=\"1\" class=\"dataframe\">\n",
       "  <thead>\n",
       "    <tr style=\"text-align: right;\">\n",
       "      <th></th>\n",
       "      <th>Order ID</th>\n",
       "      <th>Product</th>\n",
       "      <th>Quantity Ordered</th>\n",
       "      <th>Price Each</th>\n",
       "      <th>Order Date</th>\n",
       "      <th>Purchase Address</th>\n",
       "    </tr>\n",
       "  </thead>\n",
       "  <tbody>\n",
       "  </tbody>\n",
       "</table>\n",
       "</div>"
      ],
      "text/plain": [
       "Empty DataFrame\n",
       "Columns: [Order ID, Product, Quantity Ordered, Price Each, Order Date, Purchase Address]\n",
       "Index: []"
      ]
     },
     "execution_count": 14,
     "metadata": {},
     "output_type": "execute_result"
    }
   ],
   "source": [
    "df[df[\"Order ID\"] == \"Order ID\"]"
   ]
  },
  {
   "cell_type": "markdown",
   "id": "aeb40a3c",
   "metadata": {},
   "source": [
    "successfully removed cells with the heading as entries\n",
    "****************************************************"
   ]
  },
  {
   "cell_type": "markdown",
   "id": "2ee2b69c",
   "metadata": {},
   "source": [
    "#### Check if columns have the correct data type"
   ]
  },
  {
   "cell_type": "code",
   "execution_count": 15,
   "id": "8e45555c",
   "metadata": {},
   "outputs": [
    {
     "data": {
      "text/plain": [
       "Order ID            object\n",
       "Product             object\n",
       "Quantity Ordered    object\n",
       "Price Each          object\n",
       "Order Date          object\n",
       "Purchase Address    object\n",
       "dtype: object"
      ]
     },
     "execution_count": 15,
     "metadata": {},
     "output_type": "execute_result"
    }
   ],
   "source": [
    "df.dtypes"
   ]
  },
  {
   "cell_type": "markdown",
   "id": "8c35dbcb",
   "metadata": {},
   "source": [
    "\"Quanitity Ordered \", \"Price Each\" and \"Order Date\"columns are objects when they are suppose to be numerical values and datetime. next step is to convert these data types into numerical data types and datetime\n"
   ]
  },
  {
   "cell_type": "code",
   "execution_count": 16,
   "id": "a1398c56",
   "metadata": {},
   "outputs": [],
   "source": [
    "df['Quantity Ordered'] = pd.to_numeric(df['Quantity Ordered'])\n",
    "df['Price Each'] = pd.to_numeric(df['Price Each'])\n",
    "df['Order Date'] = pd.to_datetime(df['Order Date'])"
   ]
  },
  {
   "cell_type": "code",
   "execution_count": 17,
   "id": "8ce59d03",
   "metadata": {},
   "outputs": [
    {
     "data": {
      "text/plain": [
       "Order ID                    object\n",
       "Product                     object\n",
       "Quantity Ordered             int64\n",
       "Price Each                 float64\n",
       "Order Date          datetime64[ns]\n",
       "Purchase Address            object\n",
       "dtype: object"
      ]
     },
     "execution_count": 17,
     "metadata": {},
     "output_type": "execute_result"
    }
   ],
   "source": [
    "df.dtypes"
   ]
  },
  {
   "cell_type": "code",
   "execution_count": 18,
   "id": "2173666f",
   "metadata": {},
   "outputs": [
    {
     "data": {
      "text/html": [
       "<div>\n",
       "<style scoped>\n",
       "    .dataframe tbody tr th:only-of-type {\n",
       "        vertical-align: middle;\n",
       "    }\n",
       "\n",
       "    .dataframe tbody tr th {\n",
       "        vertical-align: top;\n",
       "    }\n",
       "\n",
       "    .dataframe thead th {\n",
       "        text-align: right;\n",
       "    }\n",
       "</style>\n",
       "<table border=\"1\" class=\"dataframe\">\n",
       "  <thead>\n",
       "    <tr style=\"text-align: right;\">\n",
       "      <th></th>\n",
       "      <th>Quantity Ordered</th>\n",
       "      <th>Price Each</th>\n",
       "    </tr>\n",
       "  </thead>\n",
       "  <tbody>\n",
       "    <tr>\n",
       "      <th>count</th>\n",
       "      <td>185686.000000</td>\n",
       "      <td>185686.000000</td>\n",
       "    </tr>\n",
       "    <tr>\n",
       "      <th>mean</th>\n",
       "      <td>1.124544</td>\n",
       "      <td>184.519255</td>\n",
       "    </tr>\n",
       "    <tr>\n",
       "      <th>std</th>\n",
       "      <td>0.443069</td>\n",
       "      <td>332.843838</td>\n",
       "    </tr>\n",
       "    <tr>\n",
       "      <th>min</th>\n",
       "      <td>1.000000</td>\n",
       "      <td>2.990000</td>\n",
       "    </tr>\n",
       "    <tr>\n",
       "      <th>25%</th>\n",
       "      <td>1.000000</td>\n",
       "      <td>11.950000</td>\n",
       "    </tr>\n",
       "    <tr>\n",
       "      <th>50%</th>\n",
       "      <td>1.000000</td>\n",
       "      <td>14.950000</td>\n",
       "    </tr>\n",
       "    <tr>\n",
       "      <th>75%</th>\n",
       "      <td>1.000000</td>\n",
       "      <td>150.000000</td>\n",
       "    </tr>\n",
       "    <tr>\n",
       "      <th>max</th>\n",
       "      <td>9.000000</td>\n",
       "      <td>1700.000000</td>\n",
       "    </tr>\n",
       "  </tbody>\n",
       "</table>\n",
       "</div>"
      ],
      "text/plain": [
       "       Quantity Ordered     Price Each\n",
       "count     185686.000000  185686.000000\n",
       "mean           1.124544     184.519255\n",
       "std            0.443069     332.843838\n",
       "min            1.000000       2.990000\n",
       "25%            1.000000      11.950000\n",
       "50%            1.000000      14.950000\n",
       "75%            1.000000     150.000000\n",
       "max            9.000000    1700.000000"
      ]
     },
     "execution_count": 18,
     "metadata": {},
     "output_type": "execute_result"
    }
   ],
   "source": [
    "df.describe()"
   ]
  },
  {
   "cell_type": "markdown",
   "id": "1ba5b024",
   "metadata": {},
   "source": [
    "looking at this summary of the data, notice that the maximum Price Each is 1700 but the mean is 184. check if 1700 is not a typo or mistake"
   ]
  },
  {
   "cell_type": "code",
   "execution_count": 19,
   "id": "62ed3f27",
   "metadata": {},
   "outputs": [
    {
     "data": {
      "text/html": [
       "<div>\n",
       "<style scoped>\n",
       "    .dataframe tbody tr th:only-of-type {\n",
       "        vertical-align: middle;\n",
       "    }\n",
       "\n",
       "    .dataframe tbody tr th {\n",
       "        vertical-align: top;\n",
       "    }\n",
       "\n",
       "    .dataframe thead th {\n",
       "        text-align: right;\n",
       "    }\n",
       "</style>\n",
       "<table border=\"1\" class=\"dataframe\">\n",
       "  <thead>\n",
       "    <tr style=\"text-align: right;\">\n",
       "      <th></th>\n",
       "      <th>Order ID</th>\n",
       "      <th>Product</th>\n",
       "      <th>Quantity Ordered</th>\n",
       "      <th>Price Each</th>\n",
       "      <th>Order Date</th>\n",
       "      <th>Purchase Address</th>\n",
       "    </tr>\n",
       "  </thead>\n",
       "  <tbody>\n",
       "    <tr>\n",
       "      <th>9</th>\n",
       "      <td>176565</td>\n",
       "      <td>Macbook Pro Laptop</td>\n",
       "      <td>1</td>\n",
       "      <td>1700.0</td>\n",
       "      <td>2019-04-24 10:38:00</td>\n",
       "      <td>915 Willow St, San Francisco, CA 94016</td>\n",
       "    </tr>\n",
       "    <tr>\n",
       "      <th>86</th>\n",
       "      <td>176639</td>\n",
       "      <td>Macbook Pro Laptop</td>\n",
       "      <td>1</td>\n",
       "      <td>1700.0</td>\n",
       "      <td>2019-04-28 16:14:00</td>\n",
       "      <td>853 Cedar St, San Francisco, CA 94016</td>\n",
       "    </tr>\n",
       "    <tr>\n",
       "      <th>90</th>\n",
       "      <td>176643</td>\n",
       "      <td>Macbook Pro Laptop</td>\n",
       "      <td>1</td>\n",
       "      <td>1700.0</td>\n",
       "      <td>2019-04-27 21:32:00</td>\n",
       "      <td>373 Adams St, Boston, MA 02215</td>\n",
       "    </tr>\n",
       "    <tr>\n",
       "      <th>93</th>\n",
       "      <td>176646</td>\n",
       "      <td>Macbook Pro Laptop</td>\n",
       "      <td>1</td>\n",
       "      <td>1700.0</td>\n",
       "      <td>2019-04-22 07:14:00</td>\n",
       "      <td>657 Adams St, Portland, OR 97035</td>\n",
       "    </tr>\n",
       "    <tr>\n",
       "      <th>136</th>\n",
       "      <td>176687</td>\n",
       "      <td>Macbook Pro Laptop</td>\n",
       "      <td>1</td>\n",
       "      <td>1700.0</td>\n",
       "      <td>2019-04-30 10:26:00</td>\n",
       "      <td>121 Wilson St, Los Angeles, CA 90001</td>\n",
       "    </tr>\n",
       "    <tr>\n",
       "      <th>...</th>\n",
       "      <td>...</td>\n",
       "      <td>...</td>\n",
       "      <td>...</td>\n",
       "      <td>...</td>\n",
       "      <td>...</td>\n",
       "      <td>...</td>\n",
       "    </tr>\n",
       "    <tr>\n",
       "      <th>186514</th>\n",
       "      <td>259041</td>\n",
       "      <td>Macbook Pro Laptop</td>\n",
       "      <td>1</td>\n",
       "      <td>1700.0</td>\n",
       "      <td>2019-09-13 23:14:00</td>\n",
       "      <td>220 Sunset St, New York City, NY 10001</td>\n",
       "    </tr>\n",
       "    <tr>\n",
       "      <th>186637</th>\n",
       "      <td>259157</td>\n",
       "      <td>Macbook Pro Laptop</td>\n",
       "      <td>1</td>\n",
       "      <td>1700.0</td>\n",
       "      <td>2019-09-12 05:01:00</td>\n",
       "      <td>326 Forest St, Seattle, WA 98101</td>\n",
       "    </tr>\n",
       "    <tr>\n",
       "      <th>186787</th>\n",
       "      <td>259299</td>\n",
       "      <td>Macbook Pro Laptop</td>\n",
       "      <td>1</td>\n",
       "      <td>1700.0</td>\n",
       "      <td>2019-09-30 23:59:00</td>\n",
       "      <td>240 Chestnut St, Los Angeles, CA 90001</td>\n",
       "    </tr>\n",
       "    <tr>\n",
       "      <th>186797</th>\n",
       "      <td>259308</td>\n",
       "      <td>Macbook Pro Laptop</td>\n",
       "      <td>1</td>\n",
       "      <td>1700.0</td>\n",
       "      <td>2019-09-26 19:16:00</td>\n",
       "      <td>912 8th St, Boston, MA 02215</td>\n",
       "    </tr>\n",
       "    <tr>\n",
       "      <th>186814</th>\n",
       "      <td>259324</td>\n",
       "      <td>Macbook Pro Laptop</td>\n",
       "      <td>1</td>\n",
       "      <td>1700.0</td>\n",
       "      <td>2019-09-29 13:37:00</td>\n",
       "      <td>926 North St, San Francisco, CA 94016</td>\n",
       "    </tr>\n",
       "  </tbody>\n",
       "</table>\n",
       "<p>4721 rows × 6 columns</p>\n",
       "</div>"
      ],
      "text/plain": [
       "       Order ID             Product  Quantity Ordered  Price Each  \\\n",
       "9        176565  Macbook Pro Laptop                 1      1700.0   \n",
       "86       176639  Macbook Pro Laptop                 1      1700.0   \n",
       "90       176643  Macbook Pro Laptop                 1      1700.0   \n",
       "93       176646  Macbook Pro Laptop                 1      1700.0   \n",
       "136      176687  Macbook Pro Laptop                 1      1700.0   \n",
       "...         ...                 ...               ...         ...   \n",
       "186514   259041  Macbook Pro Laptop                 1      1700.0   \n",
       "186637   259157  Macbook Pro Laptop                 1      1700.0   \n",
       "186787   259299  Macbook Pro Laptop                 1      1700.0   \n",
       "186797   259308  Macbook Pro Laptop                 1      1700.0   \n",
       "186814   259324  Macbook Pro Laptop                 1      1700.0   \n",
       "\n",
       "                Order Date                        Purchase Address  \n",
       "9      2019-04-24 10:38:00  915 Willow St, San Francisco, CA 94016  \n",
       "86     2019-04-28 16:14:00   853 Cedar St, San Francisco, CA 94016  \n",
       "90     2019-04-27 21:32:00          373 Adams St, Boston, MA 02215  \n",
       "93     2019-04-22 07:14:00        657 Adams St, Portland, OR 97035  \n",
       "136    2019-04-30 10:26:00    121 Wilson St, Los Angeles, CA 90001  \n",
       "...                    ...                                     ...  \n",
       "186514 2019-09-13 23:14:00  220 Sunset St, New York City, NY 10001  \n",
       "186637 2019-09-12 05:01:00        326 Forest St, Seattle, WA 98101  \n",
       "186787 2019-09-30 23:59:00  240 Chestnut St, Los Angeles, CA 90001  \n",
       "186797 2019-09-26 19:16:00            912 8th St, Boston, MA 02215  \n",
       "186814 2019-09-29 13:37:00   926 North St, San Francisco, CA 94016  \n",
       "\n",
       "[4721 rows x 6 columns]"
      ]
     },
     "execution_count": 19,
     "metadata": {},
     "output_type": "execute_result"
    }
   ],
   "source": [
    "df[df['Price Each'] == 1700]"
   ]
  },
  {
   "cell_type": "code",
   "execution_count": 20,
   "id": "1fbc8da3",
   "metadata": {},
   "outputs": [
    {
     "data": {
      "text/plain": [
       "array(['Macbook Pro Laptop'], dtype=object)"
      ]
     },
     "execution_count": 20,
     "metadata": {},
     "output_type": "execute_result"
    }
   ],
   "source": [
    "df[df['Price Each'] == 1700]['Product'].unique()"
   ]
  },
  {
   "cell_type": "markdown",
   "id": "6675381f",
   "metadata": {},
   "source": [
    "1700 is not a mistake or typo because it is the price of the Macbook Pro Laptop across the dataframe\n",
    "\n",
    "This marks the end of our data cleaning process. now we start preparing our dataframe for exploration and anaylsis.\n",
    "\n",
    "**********************************************"
   ]
  },
  {
   "cell_type": "markdown",
   "id": "6e832d52",
   "metadata": {},
   "source": [
    "## Prepare Dataframe for Exploratory Analysis"
   ]
  },
  {
   "cell_type": "markdown",
   "id": "133ee26a",
   "metadata": {},
   "source": [
    "in this section 'Order Date' will be split into Date and Time so it can be understand the relationship between time, day and month and sales.\n",
    "\n",
    "a sales Column will be created which will give the total sales amount of an entry.\n",
    "\n",
    "a Cities column will be created to see which city performs the best and worst."
   ]
  },
  {
   "cell_type": "markdown",
   "id": "1279c09d",
   "metadata": {},
   "source": [
    "#### Split 'Order Date' by Date and Time"
   ]
  },
  {
   "cell_type": "code",
   "execution_count": 21,
   "id": "4eedb691",
   "metadata": {},
   "outputs": [
    {
     "data": {
      "text/html": [
       "<div>\n",
       "<style scoped>\n",
       "    .dataframe tbody tr th:only-of-type {\n",
       "        vertical-align: middle;\n",
       "    }\n",
       "\n",
       "    .dataframe tbody tr th {\n",
       "        vertical-align: top;\n",
       "    }\n",
       "\n",
       "    .dataframe thead th {\n",
       "        text-align: right;\n",
       "    }\n",
       "</style>\n",
       "<table border=\"1\" class=\"dataframe\">\n",
       "  <thead>\n",
       "    <tr style=\"text-align: right;\">\n",
       "      <th></th>\n",
       "      <th>Order ID</th>\n",
       "      <th>Product</th>\n",
       "      <th>Quantity Ordered</th>\n",
       "      <th>Price Each</th>\n",
       "      <th>Order Date</th>\n",
       "      <th>Purchase Address</th>\n",
       "      <th>Date</th>\n",
       "      <th>Month</th>\n",
       "      <th>Day</th>\n",
       "      <th>Hour</th>\n",
       "    </tr>\n",
       "  </thead>\n",
       "  <tbody>\n",
       "    <tr>\n",
       "      <th>0</th>\n",
       "      <td>176558</td>\n",
       "      <td>USB-C Charging Cable</td>\n",
       "      <td>2</td>\n",
       "      <td>11.95</td>\n",
       "      <td>2019-04-19 08:46:00</td>\n",
       "      <td>917 1st St, Dallas, TX 75001</td>\n",
       "      <td>2019-04-19</td>\n",
       "      <td>4</td>\n",
       "      <td>4</td>\n",
       "      <td>8</td>\n",
       "    </tr>\n",
       "    <tr>\n",
       "      <th>2</th>\n",
       "      <td>176559</td>\n",
       "      <td>Bose SoundSport Headphones</td>\n",
       "      <td>1</td>\n",
       "      <td>99.99</td>\n",
       "      <td>2019-04-07 22:30:00</td>\n",
       "      <td>682 Chestnut St, Boston, MA 02215</td>\n",
       "      <td>2019-04-07</td>\n",
       "      <td>4</td>\n",
       "      <td>6</td>\n",
       "      <td>22</td>\n",
       "    </tr>\n",
       "    <tr>\n",
       "      <th>3</th>\n",
       "      <td>176560</td>\n",
       "      <td>Google Phone</td>\n",
       "      <td>1</td>\n",
       "      <td>600.00</td>\n",
       "      <td>2019-04-12 14:38:00</td>\n",
       "      <td>669 Spruce St, Los Angeles, CA 90001</td>\n",
       "      <td>2019-04-12</td>\n",
       "      <td>4</td>\n",
       "      <td>4</td>\n",
       "      <td>14</td>\n",
       "    </tr>\n",
       "    <tr>\n",
       "      <th>4</th>\n",
       "      <td>176560</td>\n",
       "      <td>Wired Headphones</td>\n",
       "      <td>1</td>\n",
       "      <td>11.99</td>\n",
       "      <td>2019-04-12 14:38:00</td>\n",
       "      <td>669 Spruce St, Los Angeles, CA 90001</td>\n",
       "      <td>2019-04-12</td>\n",
       "      <td>4</td>\n",
       "      <td>4</td>\n",
       "      <td>14</td>\n",
       "    </tr>\n",
       "    <tr>\n",
       "      <th>5</th>\n",
       "      <td>176561</td>\n",
       "      <td>Wired Headphones</td>\n",
       "      <td>1</td>\n",
       "      <td>11.99</td>\n",
       "      <td>2019-04-30 09:27:00</td>\n",
       "      <td>333 8th St, Los Angeles, CA 90001</td>\n",
       "      <td>2019-04-30</td>\n",
       "      <td>4</td>\n",
       "      <td>1</td>\n",
       "      <td>9</td>\n",
       "    </tr>\n",
       "  </tbody>\n",
       "</table>\n",
       "</div>"
      ],
      "text/plain": [
       "  Order ID                     Product  Quantity Ordered  Price Each  \\\n",
       "0   176558        USB-C Charging Cable                 2       11.95   \n",
       "2   176559  Bose SoundSport Headphones                 1       99.99   \n",
       "3   176560                Google Phone                 1      600.00   \n",
       "4   176560            Wired Headphones                 1       11.99   \n",
       "5   176561            Wired Headphones                 1       11.99   \n",
       "\n",
       "           Order Date                      Purchase Address        Date  \\\n",
       "0 2019-04-19 08:46:00          917 1st St, Dallas, TX 75001  2019-04-19   \n",
       "2 2019-04-07 22:30:00     682 Chestnut St, Boston, MA 02215  2019-04-07   \n",
       "3 2019-04-12 14:38:00  669 Spruce St, Los Angeles, CA 90001  2019-04-12   \n",
       "4 2019-04-12 14:38:00  669 Spruce St, Los Angeles, CA 90001  2019-04-12   \n",
       "5 2019-04-30 09:27:00     333 8th St, Los Angeles, CA 90001  2019-04-30   \n",
       "\n",
       "   Month  Day  Hour  \n",
       "0      4    4     8  \n",
       "2      4    6    22  \n",
       "3      4    4    14  \n",
       "4      4    4    14  \n",
       "5      4    1     9  "
      ]
     },
     "execution_count": 21,
     "metadata": {},
     "output_type": "execute_result"
    }
   ],
   "source": [
    "df['Date'] = pd.to_datetime(df['Order Date']).dt.date\n",
    "df['Month'] = pd.to_datetime(df['Order Date']).dt.month\n",
    "df['Day'] = df['Order Date'].dt.weekday\n",
    "df['Hour'] = pd.to_datetime(df['Order Date']).dt.hour\n",
    "df.head()"
   ]
  },
  {
   "cell_type": "markdown",
   "id": "56334fca",
   "metadata": {},
   "source": [
    "Day column has day of the week as numbers where 0 = Sunday, Saturday = 6. \n",
    "\n",
    "Now we will create a sales column"
   ]
  },
  {
   "cell_type": "markdown",
   "id": "3dc9ce60",
   "metadata": {},
   "source": [
    "#### Create Sales column\n",
    "\n",
    "a sales column will be the product(multiplication) of 2 values from \"Quantity\" and \"Price Each\""
   ]
  },
  {
   "cell_type": "code",
   "execution_count": 22,
   "id": "3d4d7af4",
   "metadata": {},
   "outputs": [
    {
     "data": {
      "text/html": [
       "<div>\n",
       "<style scoped>\n",
       "    .dataframe tbody tr th:only-of-type {\n",
       "        vertical-align: middle;\n",
       "    }\n",
       "\n",
       "    .dataframe tbody tr th {\n",
       "        vertical-align: top;\n",
       "    }\n",
       "\n",
       "    .dataframe thead th {\n",
       "        text-align: right;\n",
       "    }\n",
       "</style>\n",
       "<table border=\"1\" class=\"dataframe\">\n",
       "  <thead>\n",
       "    <tr style=\"text-align: right;\">\n",
       "      <th></th>\n",
       "      <th>Order ID</th>\n",
       "      <th>Product</th>\n",
       "      <th>Quantity Ordered</th>\n",
       "      <th>Price Each</th>\n",
       "      <th>Order Date</th>\n",
       "      <th>Purchase Address</th>\n",
       "      <th>Date</th>\n",
       "      <th>Month</th>\n",
       "      <th>Day</th>\n",
       "      <th>Hour</th>\n",
       "      <th>Sales</th>\n",
       "    </tr>\n",
       "  </thead>\n",
       "  <tbody>\n",
       "    <tr>\n",
       "      <th>0</th>\n",
       "      <td>176558</td>\n",
       "      <td>USB-C Charging Cable</td>\n",
       "      <td>2</td>\n",
       "      <td>11.95</td>\n",
       "      <td>2019-04-19 08:46:00</td>\n",
       "      <td>917 1st St, Dallas, TX 75001</td>\n",
       "      <td>2019-04-19</td>\n",
       "      <td>4</td>\n",
       "      <td>4</td>\n",
       "      <td>8</td>\n",
       "      <td>23.90</td>\n",
       "    </tr>\n",
       "    <tr>\n",
       "      <th>2</th>\n",
       "      <td>176559</td>\n",
       "      <td>Bose SoundSport Headphones</td>\n",
       "      <td>1</td>\n",
       "      <td>99.99</td>\n",
       "      <td>2019-04-07 22:30:00</td>\n",
       "      <td>682 Chestnut St, Boston, MA 02215</td>\n",
       "      <td>2019-04-07</td>\n",
       "      <td>4</td>\n",
       "      <td>6</td>\n",
       "      <td>22</td>\n",
       "      <td>99.99</td>\n",
       "    </tr>\n",
       "    <tr>\n",
       "      <th>3</th>\n",
       "      <td>176560</td>\n",
       "      <td>Google Phone</td>\n",
       "      <td>1</td>\n",
       "      <td>600.00</td>\n",
       "      <td>2019-04-12 14:38:00</td>\n",
       "      <td>669 Spruce St, Los Angeles, CA 90001</td>\n",
       "      <td>2019-04-12</td>\n",
       "      <td>4</td>\n",
       "      <td>4</td>\n",
       "      <td>14</td>\n",
       "      <td>600.00</td>\n",
       "    </tr>\n",
       "    <tr>\n",
       "      <th>4</th>\n",
       "      <td>176560</td>\n",
       "      <td>Wired Headphones</td>\n",
       "      <td>1</td>\n",
       "      <td>11.99</td>\n",
       "      <td>2019-04-12 14:38:00</td>\n",
       "      <td>669 Spruce St, Los Angeles, CA 90001</td>\n",
       "      <td>2019-04-12</td>\n",
       "      <td>4</td>\n",
       "      <td>4</td>\n",
       "      <td>14</td>\n",
       "      <td>11.99</td>\n",
       "    </tr>\n",
       "    <tr>\n",
       "      <th>5</th>\n",
       "      <td>176561</td>\n",
       "      <td>Wired Headphones</td>\n",
       "      <td>1</td>\n",
       "      <td>11.99</td>\n",
       "      <td>2019-04-30 09:27:00</td>\n",
       "      <td>333 8th St, Los Angeles, CA 90001</td>\n",
       "      <td>2019-04-30</td>\n",
       "      <td>4</td>\n",
       "      <td>1</td>\n",
       "      <td>9</td>\n",
       "      <td>11.99</td>\n",
       "    </tr>\n",
       "  </tbody>\n",
       "</table>\n",
       "</div>"
      ],
      "text/plain": [
       "  Order ID                     Product  Quantity Ordered  Price Each  \\\n",
       "0   176558        USB-C Charging Cable                 2       11.95   \n",
       "2   176559  Bose SoundSport Headphones                 1       99.99   \n",
       "3   176560                Google Phone                 1      600.00   \n",
       "4   176560            Wired Headphones                 1       11.99   \n",
       "5   176561            Wired Headphones                 1       11.99   \n",
       "\n",
       "           Order Date                      Purchase Address        Date  \\\n",
       "0 2019-04-19 08:46:00          917 1st St, Dallas, TX 75001  2019-04-19   \n",
       "2 2019-04-07 22:30:00     682 Chestnut St, Boston, MA 02215  2019-04-07   \n",
       "3 2019-04-12 14:38:00  669 Spruce St, Los Angeles, CA 90001  2019-04-12   \n",
       "4 2019-04-12 14:38:00  669 Spruce St, Los Angeles, CA 90001  2019-04-12   \n",
       "5 2019-04-30 09:27:00     333 8th St, Los Angeles, CA 90001  2019-04-30   \n",
       "\n",
       "   Month  Day  Hour   Sales  \n",
       "0      4    4     8   23.90  \n",
       "2      4    6    22   99.99  \n",
       "3      4    4    14  600.00  \n",
       "4      4    4    14   11.99  \n",
       "5      4    1     9   11.99  "
      ]
     },
     "execution_count": 22,
     "metadata": {},
     "output_type": "execute_result"
    }
   ],
   "source": [
    "df['Sales'] = df['Quantity Ordered'].astype('int') * df['Price Each'].astype('float')\n",
    "df.head()"
   ]
  },
  {
   "cell_type": "markdown",
   "id": "2b1c2cfc",
   "metadata": {},
   "source": [
    "#### Create a City column"
   ]
  },
  {
   "cell_type": "code",
   "execution_count": 23,
   "id": "f1bc3357",
   "metadata": {},
   "outputs": [
    {
     "data": {
      "text/html": [
       "<div>\n",
       "<style scoped>\n",
       "    .dataframe tbody tr th:only-of-type {\n",
       "        vertical-align: middle;\n",
       "    }\n",
       "\n",
       "    .dataframe tbody tr th {\n",
       "        vertical-align: top;\n",
       "    }\n",
       "\n",
       "    .dataframe thead th {\n",
       "        text-align: right;\n",
       "    }\n",
       "</style>\n",
       "<table border=\"1\" class=\"dataframe\">\n",
       "  <thead>\n",
       "    <tr style=\"text-align: right;\">\n",
       "      <th></th>\n",
       "      <th>Order ID</th>\n",
       "      <th>Product</th>\n",
       "      <th>Quantity Ordered</th>\n",
       "      <th>Price Each</th>\n",
       "      <th>Order Date</th>\n",
       "      <th>Purchase Address</th>\n",
       "      <th>Date</th>\n",
       "      <th>Month</th>\n",
       "      <th>Day</th>\n",
       "      <th>Hour</th>\n",
       "      <th>Sales</th>\n",
       "      <th>City</th>\n",
       "    </tr>\n",
       "  </thead>\n",
       "  <tbody>\n",
       "    <tr>\n",
       "      <th>0</th>\n",
       "      <td>176558</td>\n",
       "      <td>USB-C Charging Cable</td>\n",
       "      <td>2</td>\n",
       "      <td>11.95</td>\n",
       "      <td>2019-04-19 08:46:00</td>\n",
       "      <td>917 1st St, Dallas, TX 75001</td>\n",
       "      <td>2019-04-19</td>\n",
       "      <td>4</td>\n",
       "      <td>4</td>\n",
       "      <td>8</td>\n",
       "      <td>23.90</td>\n",
       "      <td>Dallas</td>\n",
       "    </tr>\n",
       "    <tr>\n",
       "      <th>2</th>\n",
       "      <td>176559</td>\n",
       "      <td>Bose SoundSport Headphones</td>\n",
       "      <td>1</td>\n",
       "      <td>99.99</td>\n",
       "      <td>2019-04-07 22:30:00</td>\n",
       "      <td>682 Chestnut St, Boston, MA 02215</td>\n",
       "      <td>2019-04-07</td>\n",
       "      <td>4</td>\n",
       "      <td>6</td>\n",
       "      <td>22</td>\n",
       "      <td>99.99</td>\n",
       "      <td>Boston</td>\n",
       "    </tr>\n",
       "    <tr>\n",
       "      <th>3</th>\n",
       "      <td>176560</td>\n",
       "      <td>Google Phone</td>\n",
       "      <td>1</td>\n",
       "      <td>600.00</td>\n",
       "      <td>2019-04-12 14:38:00</td>\n",
       "      <td>669 Spruce St, Los Angeles, CA 90001</td>\n",
       "      <td>2019-04-12</td>\n",
       "      <td>4</td>\n",
       "      <td>4</td>\n",
       "      <td>14</td>\n",
       "      <td>600.00</td>\n",
       "      <td>Los Angeles</td>\n",
       "    </tr>\n",
       "    <tr>\n",
       "      <th>4</th>\n",
       "      <td>176560</td>\n",
       "      <td>Wired Headphones</td>\n",
       "      <td>1</td>\n",
       "      <td>11.99</td>\n",
       "      <td>2019-04-12 14:38:00</td>\n",
       "      <td>669 Spruce St, Los Angeles, CA 90001</td>\n",
       "      <td>2019-04-12</td>\n",
       "      <td>4</td>\n",
       "      <td>4</td>\n",
       "      <td>14</td>\n",
       "      <td>11.99</td>\n",
       "      <td>Los Angeles</td>\n",
       "    </tr>\n",
       "    <tr>\n",
       "      <th>5</th>\n",
       "      <td>176561</td>\n",
       "      <td>Wired Headphones</td>\n",
       "      <td>1</td>\n",
       "      <td>11.99</td>\n",
       "      <td>2019-04-30 09:27:00</td>\n",
       "      <td>333 8th St, Los Angeles, CA 90001</td>\n",
       "      <td>2019-04-30</td>\n",
       "      <td>4</td>\n",
       "      <td>1</td>\n",
       "      <td>9</td>\n",
       "      <td>11.99</td>\n",
       "      <td>Los Angeles</td>\n",
       "    </tr>\n",
       "  </tbody>\n",
       "</table>\n",
       "</div>"
      ],
      "text/plain": [
       "  Order ID                     Product  Quantity Ordered  Price Each  \\\n",
       "0   176558        USB-C Charging Cable                 2       11.95   \n",
       "2   176559  Bose SoundSport Headphones                 1       99.99   \n",
       "3   176560                Google Phone                 1      600.00   \n",
       "4   176560            Wired Headphones                 1       11.99   \n",
       "5   176561            Wired Headphones                 1       11.99   \n",
       "\n",
       "           Order Date                      Purchase Address        Date  \\\n",
       "0 2019-04-19 08:46:00          917 1st St, Dallas, TX 75001  2019-04-19   \n",
       "2 2019-04-07 22:30:00     682 Chestnut St, Boston, MA 02215  2019-04-07   \n",
       "3 2019-04-12 14:38:00  669 Spruce St, Los Angeles, CA 90001  2019-04-12   \n",
       "4 2019-04-12 14:38:00  669 Spruce St, Los Angeles, CA 90001  2019-04-12   \n",
       "5 2019-04-30 09:27:00     333 8th St, Los Angeles, CA 90001  2019-04-30   \n",
       "\n",
       "   Month  Day  Hour   Sales          City  \n",
       "0      4    4     8   23.90       Dallas   \n",
       "2      4    6    22   99.99       Boston   \n",
       "3      4    4    14  600.00  Los Angeles   \n",
       "4      4    4    14   11.99  Los Angeles   \n",
       "5      4    1     9   11.99  Los Angeles   "
      ]
     },
     "execution_count": 23,
     "metadata": {},
     "output_type": "execute_result"
    }
   ],
   "source": [
    "def get_city(address):\n",
    "    return address.split(\",\")[1].strip(\" \")\n",
    "\n",
    "df['City'] = df['Purchase Address'].apply(lambda x: f\"{get_city(x)} \")\n",
    "df.head()"
   ]
  },
  {
   "cell_type": "code",
   "execution_count": 24,
   "id": "38da25cb",
   "metadata": {},
   "outputs": [
    {
     "data": {
      "text/plain": [
       "array(['Dallas ', 'Boston ', 'Los Angeles ', 'San Francisco ', 'Seattle ',\n",
       "       'Atlanta ', 'New York City ', 'Portland ', 'Austin '], dtype=object)"
      ]
     },
     "execution_count": 24,
     "metadata": {},
     "output_type": "execute_result"
    }
   ],
   "source": [
    "df['City'].unique()"
   ]
  },
  {
   "cell_type": "markdown",
   "id": "e64d02cc",
   "metadata": {},
   "source": [
    "The dataframe has been prepared and is now ready for exploring and analysis\n",
    "*************************************"
   ]
  },
  {
   "cell_type": "markdown",
   "id": "4ee819b7",
   "metadata": {},
   "source": [
    "####  Save clean data as csv"
   ]
  },
  {
   "cell_type": "code",
   "execution_count": 25,
   "id": "1256d1f9",
   "metadata": {},
   "outputs": [],
   "source": [
    "df.to_csv(\"Clean_Sales_Data.csv\", index = False)"
   ]
  },
  {
   "cell_type": "markdown",
   "id": "8bd464fe",
   "metadata": {},
   "source": [
    "###### import clean sales data for exploration"
   ]
  },
  {
   "cell_type": "code",
   "execution_count": 26,
   "id": "1c5070fb",
   "metadata": {},
   "outputs": [
    {
     "data": {
      "text/html": [
       "<div>\n",
       "<style scoped>\n",
       "    .dataframe tbody tr th:only-of-type {\n",
       "        vertical-align: middle;\n",
       "    }\n",
       "\n",
       "    .dataframe tbody tr th {\n",
       "        vertical-align: top;\n",
       "    }\n",
       "\n",
       "    .dataframe thead th {\n",
       "        text-align: right;\n",
       "    }\n",
       "</style>\n",
       "<table border=\"1\" class=\"dataframe\">\n",
       "  <thead>\n",
       "    <tr style=\"text-align: right;\">\n",
       "      <th></th>\n",
       "      <th>Order ID</th>\n",
       "      <th>Product</th>\n",
       "      <th>Quantity Ordered</th>\n",
       "      <th>Price Each</th>\n",
       "      <th>Order Date</th>\n",
       "      <th>Purchase Address</th>\n",
       "      <th>Date</th>\n",
       "      <th>Month</th>\n",
       "      <th>Day</th>\n",
       "      <th>Hour</th>\n",
       "      <th>Sales</th>\n",
       "      <th>City</th>\n",
       "    </tr>\n",
       "  </thead>\n",
       "  <tbody>\n",
       "    <tr>\n",
       "      <th>0</th>\n",
       "      <td>176558</td>\n",
       "      <td>USB-C Charging Cable</td>\n",
       "      <td>2</td>\n",
       "      <td>11.95</td>\n",
       "      <td>2019-04-19 08:46:00</td>\n",
       "      <td>917 1st St, Dallas, TX 75001</td>\n",
       "      <td>2019-04-19</td>\n",
       "      <td>4</td>\n",
       "      <td>4</td>\n",
       "      <td>8</td>\n",
       "      <td>23.90</td>\n",
       "      <td>Dallas</td>\n",
       "    </tr>\n",
       "    <tr>\n",
       "      <th>1</th>\n",
       "      <td>176559</td>\n",
       "      <td>Bose SoundSport Headphones</td>\n",
       "      <td>1</td>\n",
       "      <td>99.99</td>\n",
       "      <td>2019-04-07 22:30:00</td>\n",
       "      <td>682 Chestnut St, Boston, MA 02215</td>\n",
       "      <td>2019-04-07</td>\n",
       "      <td>4</td>\n",
       "      <td>6</td>\n",
       "      <td>22</td>\n",
       "      <td>99.99</td>\n",
       "      <td>Boston</td>\n",
       "    </tr>\n",
       "    <tr>\n",
       "      <th>2</th>\n",
       "      <td>176560</td>\n",
       "      <td>Google Phone</td>\n",
       "      <td>1</td>\n",
       "      <td>600.00</td>\n",
       "      <td>2019-04-12 14:38:00</td>\n",
       "      <td>669 Spruce St, Los Angeles, CA 90001</td>\n",
       "      <td>2019-04-12</td>\n",
       "      <td>4</td>\n",
       "      <td>4</td>\n",
       "      <td>14</td>\n",
       "      <td>600.00</td>\n",
       "      <td>Los Angeles</td>\n",
       "    </tr>\n",
       "    <tr>\n",
       "      <th>3</th>\n",
       "      <td>176560</td>\n",
       "      <td>Wired Headphones</td>\n",
       "      <td>1</td>\n",
       "      <td>11.99</td>\n",
       "      <td>2019-04-12 14:38:00</td>\n",
       "      <td>669 Spruce St, Los Angeles, CA 90001</td>\n",
       "      <td>2019-04-12</td>\n",
       "      <td>4</td>\n",
       "      <td>4</td>\n",
       "      <td>14</td>\n",
       "      <td>11.99</td>\n",
       "      <td>Los Angeles</td>\n",
       "    </tr>\n",
       "    <tr>\n",
       "      <th>4</th>\n",
       "      <td>176561</td>\n",
       "      <td>Wired Headphones</td>\n",
       "      <td>1</td>\n",
       "      <td>11.99</td>\n",
       "      <td>2019-04-30 09:27:00</td>\n",
       "      <td>333 8th St, Los Angeles, CA 90001</td>\n",
       "      <td>2019-04-30</td>\n",
       "      <td>4</td>\n",
       "      <td>1</td>\n",
       "      <td>9</td>\n",
       "      <td>11.99</td>\n",
       "      <td>Los Angeles</td>\n",
       "    </tr>\n",
       "  </tbody>\n",
       "</table>\n",
       "</div>"
      ],
      "text/plain": [
       "   Order ID                     Product  Quantity Ordered  Price Each  \\\n",
       "0    176558        USB-C Charging Cable                 2       11.95   \n",
       "1    176559  Bose SoundSport Headphones                 1       99.99   \n",
       "2    176560                Google Phone                 1      600.00   \n",
       "3    176560            Wired Headphones                 1       11.99   \n",
       "4    176561            Wired Headphones                 1       11.99   \n",
       "\n",
       "            Order Date                      Purchase Address        Date  \\\n",
       "0  2019-04-19 08:46:00          917 1st St, Dallas, TX 75001  2019-04-19   \n",
       "1  2019-04-07 22:30:00     682 Chestnut St, Boston, MA 02215  2019-04-07   \n",
       "2  2019-04-12 14:38:00  669 Spruce St, Los Angeles, CA 90001  2019-04-12   \n",
       "3  2019-04-12 14:38:00  669 Spruce St, Los Angeles, CA 90001  2019-04-12   \n",
       "4  2019-04-30 09:27:00     333 8th St, Los Angeles, CA 90001  2019-04-30   \n",
       "\n",
       "   Month  Day  Hour   Sales          City  \n",
       "0      4    4     8   23.90       Dallas   \n",
       "1      4    6    22   99.99       Boston   \n",
       "2      4    4    14  600.00  Los Angeles   \n",
       "3      4    4    14   11.99  Los Angeles   \n",
       "4      4    1     9   11.99  Los Angeles   "
      ]
     },
     "execution_count": 26,
     "metadata": {},
     "output_type": "execute_result"
    }
   ],
   "source": [
    "cdf = pd.read_csv(\"Clean_Sales_Data.csv\")\n",
    "cdf.head()"
   ]
  },
  {
   "cell_type": "markdown",
   "id": "9e35d169",
   "metadata": {},
   "source": [
    "***"
   ]
  },
  {
   "cell_type": "markdown",
   "id": "594557db",
   "metadata": {},
   "source": [
    "## Exploratory Data Analysis of Sales Date"
   ]
  },
  {
   "cell_type": "code",
   "execution_count": 27,
   "id": "edda7e57",
   "metadata": {},
   "outputs": [
    {
     "data": {
      "text/html": [
       "<div>\n",
       "<style scoped>\n",
       "    .dataframe tbody tr th:only-of-type {\n",
       "        vertical-align: middle;\n",
       "    }\n",
       "\n",
       "    .dataframe tbody tr th {\n",
       "        vertical-align: top;\n",
       "    }\n",
       "\n",
       "    .dataframe thead th {\n",
       "        text-align: right;\n",
       "    }\n",
       "</style>\n",
       "<table border=\"1\" class=\"dataframe\">\n",
       "  <thead>\n",
       "    <tr style=\"text-align: right;\">\n",
       "      <th></th>\n",
       "      <th>Order ID</th>\n",
       "      <th>Quantity Ordered</th>\n",
       "      <th>Price Each</th>\n",
       "      <th>Month</th>\n",
       "      <th>Day</th>\n",
       "      <th>Hour</th>\n",
       "      <th>Sales</th>\n",
       "    </tr>\n",
       "  </thead>\n",
       "  <tbody>\n",
       "    <tr>\n",
       "      <th>count</th>\n",
       "      <td>185686.000000</td>\n",
       "      <td>185686.000000</td>\n",
       "      <td>185686.000000</td>\n",
       "      <td>185686.000000</td>\n",
       "      <td>185686.000000</td>\n",
       "      <td>185686.000000</td>\n",
       "      <td>185686.000000</td>\n",
       "    </tr>\n",
       "    <tr>\n",
       "      <th>mean</th>\n",
       "      <td>230411.376227</td>\n",
       "      <td>1.124544</td>\n",
       "      <td>184.519255</td>\n",
       "      <td>7.058653</td>\n",
       "      <td>2.991588</td>\n",
       "      <td>14.412934</td>\n",
       "      <td>185.611936</td>\n",
       "    </tr>\n",
       "    <tr>\n",
       "      <th>std</th>\n",
       "      <td>51511.717183</td>\n",
       "      <td>0.443069</td>\n",
       "      <td>332.843838</td>\n",
       "      <td>3.502932</td>\n",
       "      <td>2.002009</td>\n",
       "      <td>5.423329</td>\n",
       "      <td>333.032118</td>\n",
       "    </tr>\n",
       "    <tr>\n",
       "      <th>min</th>\n",
       "      <td>141234.000000</td>\n",
       "      <td>1.000000</td>\n",
       "      <td>2.990000</td>\n",
       "      <td>1.000000</td>\n",
       "      <td>0.000000</td>\n",
       "      <td>0.000000</td>\n",
       "      <td>2.990000</td>\n",
       "    </tr>\n",
       "    <tr>\n",
       "      <th>25%</th>\n",
       "      <td>185833.250000</td>\n",
       "      <td>1.000000</td>\n",
       "      <td>11.950000</td>\n",
       "      <td>4.000000</td>\n",
       "      <td>1.000000</td>\n",
       "      <td>11.000000</td>\n",
       "      <td>11.950000</td>\n",
       "    </tr>\n",
       "    <tr>\n",
       "      <th>50%</th>\n",
       "      <td>230354.500000</td>\n",
       "      <td>1.000000</td>\n",
       "      <td>14.950000</td>\n",
       "      <td>7.000000</td>\n",
       "      <td>3.000000</td>\n",
       "      <td>15.000000</td>\n",
       "      <td>14.950000</td>\n",
       "    </tr>\n",
       "    <tr>\n",
       "      <th>75%</th>\n",
       "      <td>275028.750000</td>\n",
       "      <td>1.000000</td>\n",
       "      <td>150.000000</td>\n",
       "      <td>10.000000</td>\n",
       "      <td>5.000000</td>\n",
       "      <td>19.000000</td>\n",
       "      <td>150.000000</td>\n",
       "    </tr>\n",
       "    <tr>\n",
       "      <th>max</th>\n",
       "      <td>319670.000000</td>\n",
       "      <td>9.000000</td>\n",
       "      <td>1700.000000</td>\n",
       "      <td>12.000000</td>\n",
       "      <td>6.000000</td>\n",
       "      <td>23.000000</td>\n",
       "      <td>3400.000000</td>\n",
       "    </tr>\n",
       "  </tbody>\n",
       "</table>\n",
       "</div>"
      ],
      "text/plain": [
       "            Order ID  Quantity Ordered     Price Each          Month  \\\n",
       "count  185686.000000     185686.000000  185686.000000  185686.000000   \n",
       "mean   230411.376227          1.124544     184.519255       7.058653   \n",
       "std     51511.717183          0.443069     332.843838       3.502932   \n",
       "min    141234.000000          1.000000       2.990000       1.000000   \n",
       "25%    185833.250000          1.000000      11.950000       4.000000   \n",
       "50%    230354.500000          1.000000      14.950000       7.000000   \n",
       "75%    275028.750000          1.000000     150.000000      10.000000   \n",
       "max    319670.000000          9.000000    1700.000000      12.000000   \n",
       "\n",
       "                 Day           Hour          Sales  \n",
       "count  185686.000000  185686.000000  185686.000000  \n",
       "mean        2.991588      14.412934     185.611936  \n",
       "std         2.002009       5.423329     333.032118  \n",
       "min         0.000000       0.000000       2.990000  \n",
       "25%         1.000000      11.000000      11.950000  \n",
       "50%         3.000000      15.000000      14.950000  \n",
       "75%         5.000000      19.000000     150.000000  \n",
       "max         6.000000      23.000000    3400.000000  "
      ]
     },
     "execution_count": 27,
     "metadata": {},
     "output_type": "execute_result"
    }
   ],
   "source": [
    "cdf.describe()"
   ]
  },
  {
   "cell_type": "markdown",
   "id": "1e486834",
   "metadata": {},
   "source": [
    "* Customers buy one of each item on average per order. highest quantity order is 9 items. \n",
    "* the average price of items sold is 184.52 .lowest price is 2.99 and highest is 1700\n",
    "* average sales are 185.61 . highest sale is 3400"
   ]
  },
  {
   "cell_type": "code",
   "execution_count": 28,
   "id": "7a3e89be",
   "metadata": {},
   "outputs": [
    {
     "data": {
      "text/plain": [
       "160873    5\n",
       "296353    4\n",
       "304802    4\n",
       "235798    4\n",
       "194253    4\n",
       "         ..\n",
       "158126    1\n",
       "158127    1\n",
       "158128    1\n",
       "158129    1\n",
       "259357    1\n",
       "Name: Order ID, Length: 178437, dtype: int64"
      ]
     },
     "execution_count": 28,
     "metadata": {},
     "output_type": "execute_result"
    }
   ],
   "source": [
    "cdf['Order ID'].value_counts()"
   ]
  },
  {
   "cell_type": "code",
   "execution_count": 29,
   "id": "5e7a2e9d",
   "metadata": {},
   "outputs": [
    {
     "data": {
      "text/html": [
       "<div>\n",
       "<style scoped>\n",
       "    .dataframe tbody tr th:only-of-type {\n",
       "        vertical-align: middle;\n",
       "    }\n",
       "\n",
       "    .dataframe tbody tr th {\n",
       "        vertical-align: top;\n",
       "    }\n",
       "\n",
       "    .dataframe thead th {\n",
       "        text-align: right;\n",
       "    }\n",
       "</style>\n",
       "<table border=\"1\" class=\"dataframe\">\n",
       "  <thead>\n",
       "    <tr style=\"text-align: right;\">\n",
       "      <th></th>\n",
       "      <th>Order ID</th>\n",
       "      <th>Product</th>\n",
       "      <th>Quantity Ordered</th>\n",
       "      <th>Price Each</th>\n",
       "      <th>Order Date</th>\n",
       "      <th>Purchase Address</th>\n",
       "      <th>Date</th>\n",
       "      <th>Month</th>\n",
       "      <th>Day</th>\n",
       "      <th>Hour</th>\n",
       "      <th>Sales</th>\n",
       "      <th>City</th>\n",
       "    </tr>\n",
       "  </thead>\n",
       "  <tbody>\n",
       "    <tr>\n",
       "      <th>65929</th>\n",
       "      <td>160873</td>\n",
       "      <td>iPhone</td>\n",
       "      <td>1</td>\n",
       "      <td>700.00</td>\n",
       "      <td>2019-02-10 10:24:00</td>\n",
       "      <td>702 River St, San Francisco, CA 94016</td>\n",
       "      <td>2019-02-10</td>\n",
       "      <td>2</td>\n",
       "      <td>6</td>\n",
       "      <td>10</td>\n",
       "      <td>700.00</td>\n",
       "      <td>San Francisco</td>\n",
       "    </tr>\n",
       "    <tr>\n",
       "      <th>65930</th>\n",
       "      <td>160873</td>\n",
       "      <td>Lightning Charging Cable</td>\n",
       "      <td>1</td>\n",
       "      <td>14.95</td>\n",
       "      <td>2019-02-10 10:24:00</td>\n",
       "      <td>702 River St, San Francisco, CA 94016</td>\n",
       "      <td>2019-02-10</td>\n",
       "      <td>2</td>\n",
       "      <td>6</td>\n",
       "      <td>10</td>\n",
       "      <td>14.95</td>\n",
       "      <td>San Francisco</td>\n",
       "    </tr>\n",
       "    <tr>\n",
       "      <th>65931</th>\n",
       "      <td>160873</td>\n",
       "      <td>Apple Airpods Headphones</td>\n",
       "      <td>1</td>\n",
       "      <td>150.00</td>\n",
       "      <td>2019-02-10 10:24:00</td>\n",
       "      <td>702 River St, San Francisco, CA 94016</td>\n",
       "      <td>2019-02-10</td>\n",
       "      <td>2</td>\n",
       "      <td>6</td>\n",
       "      <td>10</td>\n",
       "      <td>150.00</td>\n",
       "      <td>San Francisco</td>\n",
       "    </tr>\n",
       "    <tr>\n",
       "      <th>65932</th>\n",
       "      <td>160873</td>\n",
       "      <td>Wired Headphones</td>\n",
       "      <td>1</td>\n",
       "      <td>11.99</td>\n",
       "      <td>2019-02-10 10:24:00</td>\n",
       "      <td>702 River St, San Francisco, CA 94016</td>\n",
       "      <td>2019-02-10</td>\n",
       "      <td>2</td>\n",
       "      <td>6</td>\n",
       "      <td>10</td>\n",
       "      <td>11.99</td>\n",
       "      <td>San Francisco</td>\n",
       "    </tr>\n",
       "    <tr>\n",
       "      <th>65933</th>\n",
       "      <td>160873</td>\n",
       "      <td>Google Phone</td>\n",
       "      <td>1</td>\n",
       "      <td>600.00</td>\n",
       "      <td>2019-02-10 10:24:00</td>\n",
       "      <td>702 River St, San Francisco, CA 94016</td>\n",
       "      <td>2019-02-10</td>\n",
       "      <td>2</td>\n",
       "      <td>6</td>\n",
       "      <td>10</td>\n",
       "      <td>600.00</td>\n",
       "      <td>San Francisco</td>\n",
       "    </tr>\n",
       "  </tbody>\n",
       "</table>\n",
       "</div>"
      ],
      "text/plain": [
       "       Order ID                   Product  Quantity Ordered  Price Each  \\\n",
       "65929    160873                    iPhone                 1      700.00   \n",
       "65930    160873  Lightning Charging Cable                 1       14.95   \n",
       "65931    160873  Apple Airpods Headphones                 1      150.00   \n",
       "65932    160873          Wired Headphones                 1       11.99   \n",
       "65933    160873              Google Phone                 1      600.00   \n",
       "\n",
       "                Order Date                       Purchase Address        Date  \\\n",
       "65929  2019-02-10 10:24:00  702 River St, San Francisco, CA 94016  2019-02-10   \n",
       "65930  2019-02-10 10:24:00  702 River St, San Francisco, CA 94016  2019-02-10   \n",
       "65931  2019-02-10 10:24:00  702 River St, San Francisco, CA 94016  2019-02-10   \n",
       "65932  2019-02-10 10:24:00  702 River St, San Francisco, CA 94016  2019-02-10   \n",
       "65933  2019-02-10 10:24:00  702 River St, San Francisco, CA 94016  2019-02-10   \n",
       "\n",
       "       Month  Day  Hour   Sales            City  \n",
       "65929      2    6    10  700.00  San Francisco   \n",
       "65930      2    6    10   14.95  San Francisco   \n",
       "65931      2    6    10  150.00  San Francisco   \n",
       "65932      2    6    10   11.99  San Francisco   \n",
       "65933      2    6    10  600.00  San Francisco   "
      ]
     },
     "execution_count": 29,
     "metadata": {},
     "output_type": "execute_result"
    }
   ],
   "source": [
    "cdf[cdf[\"Order ID\"] == 160873]"
   ]
  },
  {
   "cell_type": "code",
   "execution_count": null,
   "id": "7d289982",
   "metadata": {},
   "outputs": [],
   "source": []
  },
  {
   "cell_type": "code",
   "execution_count": 30,
   "id": "e1f409bf",
   "metadata": {},
   "outputs": [
    {
     "data": {
      "text/plain": [
       "<seaborn.axisgrid.FacetGrid at 0x178f97b47f0>"
      ]
     },
     "execution_count": 30,
     "metadata": {},
     "output_type": "execute_result"
    },
    {
     "data": {
      "image/png": "[encoded data removed]",
      "text/plain": [
       "<Figure size 360x360 with 1 Axes>"
      ]
     },
     "metadata": {
      "needs_background": "light"
     },
     "output_type": "display_data"
    }
   ],
   "source": [
    "sn.catplot(data=cdf, x=\"Day\", y=\"Sales\")\n"
   ]
  },
  {
   "cell_type": "code",
   "execution_count": null,
   "id": "79a24cbc",
   "metadata": {},
   "outputs": [],
   "source": []
  },
  {
   "cell_type": "code",
   "execution_count": 50,
   "id": "09112f1d",
   "metadata": {},
   "outputs": [
    {
     "data": {
      "text/plain": [
       "<seaborn.axisgrid.FacetGrid at 0x1788e7bb160>"
      ]
     },
     "execution_count": 50,
     "metadata": {},
     "output_type": "execute_result"
    },
    {
     "data": {
      "image/png": "[encoded data removed]",
      "text/plain": [
       "<Figure size 360x360 with 2 Axes>"
      ]
     },
     "metadata": {
      "needs_background": "light"
     },
     "output_type": "display_data"
    }
   ],
   "source": [
    "sn.displot(cdf, x=\"Day\", y=\"Hour\",binwidth=(2, .5), cbar=True)"
   ]
  },
  {
   "cell_type": "markdown",
   "id": "fa18579e",
   "metadata": {},
   "source": [
    "* highest transaction rate between thursday and Sunday. \n",
    "* lowest transaction rate between 2am and 9am"
   ]
  },
  {
   "cell_type": "code",
   "execution_count": 64,
   "id": "65e1f1d9",
   "metadata": {},
   "outputs": [
    {
     "data": {
      "image/png": "[encoded data removed]",
      "text/plain": [
       "<Figure size 432x288 with 1 Axes>"
      ]
     },
     "metadata": {
      "needs_background": "light"
     },
     "output_type": "display_data"
    }
   ],
   "source": [
    "months = range(1,13)\n",
    "\n",
    "plt.bar(months,cdf.groupby(['Month']).sum()['Sales'])\n",
    "plt.xticks(months)\n",
    "plt.ylabel('Sales in USD ($) [million]')\n",
    "plt.xlabel('Month number')\n",
    "plt.show()"
   ]
  },
  {
   "cell_type": "markdown",
   "id": "7e006d35",
   "metadata": {},
   "source": [
    "* December produced the highest sales,with January producing the lowest\n"
   ]
  },
  {
   "cell_type": "code",
   "execution_count": 65,
   "id": "f95ebc7c",
   "metadata": {},
   "outputs": [
    {
     "data": {
      "image/png": "[encoded data removed]",
      "text/plain": [
       "<Figure size 432x288 with 1 Axes>"
      ]
     },
     "metadata": {
      "needs_background": "light"
     },
     "output_type": "display_data"
    }
   ],
   "source": [
    "keys = [city for city, df in cdf.groupby(['City'])]\n",
    "\n",
    "plt.bar(keys,cdf.groupby(['City']).sum()['Sales'])\n",
    "plt.ylabel('Sales in USD ($) [million]')\n",
    "plt.xlabel('Month number')\n",
    "plt.xticks(keys, rotation='vertical', size=8)\n",
    "plt.show()"
   ]
  },
  {
   "cell_type": "markdown",
   "id": "02d66b81",
   "metadata": {},
   "source": [
    "* San Francisco produced the highest sales, Austin Produced the least"
   ]
  },
  {
   "cell_type": "code",
   "execution_count": 62,
   "id": "0198f82e",
   "metadata": {},
   "outputs": [
    {
     "data": {
      "image/png": "[encoded data removed]",
      "text/plain": [
       "<Figure size 432x288 with 1 Axes>"
      ]
     },
     "metadata": {
      "needs_background": "light"
     },
     "output_type": "display_data"
    }
   ],
   "source": [
    "product_type = cdf.groupby('Product')\n",
    "quantity_ordered = product_type.sum()['Quantity Ordered']\n",
    "\n",
    "keys = [pair for pair, df in product_type]\n",
    "plt.bar(keys, quantity_ordered)\n",
    "plt.xticks(keys, rotation='vertical', size=8)\n",
    "plt.show()"
   ]
  },
  {
   "cell_type": "markdown",
   "id": "e8cd23d8",
   "metadata": {},
   "source": [
    "* AAA batteries(4-pack) sold the most and LG Dryer sold the least. "
   ]
  },
  {
   "cell_type": "code",
   "execution_count": 71,
   "id": "dbc76622",
   "metadata": {},
   "outputs": [
    {
     "data": {
      "text/plain": [
       "<seaborn.axisgrid.FacetGrid at 0x1789719b4f0>"
      ]
     },
     "execution_count": 71,
     "metadata": {},
     "output_type": "execute_result"
    },
    {
     "data": {
      "image/png": "[encoded data removed]",
      "text/plain": [
       "<Figure size 360x360 with 1 Axes>"
      ]
     },
     "metadata": {
      "needs_background": "light"
     },
     "output_type": "display_data"
    }
   ],
   "source": [
    "sn.displot(cdf, x=\"Hour\", kde=True)"
   ]
  },
  {
   "cell_type": "markdown",
   "id": "2f62ce26",
   "metadata": {},
   "source": [
    "* most of the sales happen between 10am and 2pm and peak again between 5pm and 9pm\n",
    "* marketing should advertise outside these hours to increase sales"
   ]
  },
  {
   "cell_type": "code",
   "execution_count": null,
   "id": "a7eac619",
   "metadata": {},
   "outputs": [],
   "source": []
  }
 ],
 "metadata": {
  "kernelspec": {
   "display_name": "Python 3 (ipykernel)",
   "language": "python",
   "name": "python3"
  },
  "language_info": {
   "codemirror_mode": {
    "name": "ipython",
    "version": 3
   },
   "file_extension": ".py",
   "mimetype": "text/x-python",
   "name": "python",
   "nbconvert_exporter": "python",
   "pygments_lexer": "ipython3",
   "version": "3.9.12"
  }
 },
 "nbformat": 4,
 "nbformat_minor": 5
}
