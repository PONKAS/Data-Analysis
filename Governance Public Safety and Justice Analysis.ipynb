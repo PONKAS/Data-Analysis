{
 "cells": [
  {
   "cell_type": "markdown",
   "id": "025267d9",
   "metadata": {},
   "source": [
    "### 2021-2022 Governance Public Safety and Justice Analysis\n",
    "#### Mbongeni Sithole\n",
    "##### 2023-01-24\n",
    "sitholembongeni16@gmail.com\n",
    "\n",
    "data sourced from Data First\n",
    "\n",
    "https://www.datafirst.uct.ac.za/dataportal/index.php/catalog/914/get-microdata"
   ]
  },
  {
   "cell_type": "markdown",
   "id": "9b2d61df",
   "metadata": {},
   "source": [
    "***"
   ]
  },
  {
   "cell_type": "markdown",
   "id": "65b4e20c",
   "metadata": {},
   "source": [
    "#### import libraries"
   ]
  },
  {
   "cell_type": "code",
   "execution_count": 1,
   "id": "2f873cba",
   "metadata": {},
   "outputs": [],
   "source": [
    "import numpy as np\n",
    "import seaborn as sns\n",
    "import matplotlib.pyplot as plt\n",
    "%matplotlib inline\n",
    "import pandas as pd"
   ]
  },
  {
   "cell_type": "markdown",
   "id": "b9f4882c",
   "metadata": {},
   "source": [
    "#### import datasets"
   ]
  },
  {
   "cell_type": "code",
   "execution_count": 2,
   "id": "43057760",
   "metadata": {},
   "outputs": [
    {
     "name": "stderr",
     "output_type": "stream",
     "text": [
      "C:\\Users\\Mbongeni\\AppData\\Local\\Temp\\ipykernel_11116\\624463936.py:1: DtypeWarning: Columns (68) have mixed types. Specify dtype option on import or set low_memory=False.\n",
      "  household = pd.read_csv('Household.csv')\n"
     ]
    }
   ],
   "source": [
    "household = pd.read_csv('Household.csv')\n",
    "individual = pd.read_csv('Individual.csv')"
   ]
  },
  {
   "cell_type": "markdown",
   "id": "086ccbc6",
   "metadata": {},
   "source": [
    "***"
   ]
  },
  {
   "cell_type": "code",
   "execution_count": 14,
   "id": "785a8a82",
   "metadata": {},
   "outputs": [
    {
     "data": {
      "text/plain": [
       "['uqno',\n",
       " 'person_id',\n",
       " 'prov',\n",
       " 'metro_code',\n",
       " 'PsuNo_Seg',\n",
       " 'stratum',\n",
       " 'Geo_type_code',\n",
       " 'head_sex',\n",
       " 'head_age',\n",
       " 'head_population',\n",
       " 'Maritalstatus',\n",
       " 'Education',\n",
       " 'IncomeMa',\n",
       " 'hsize',\n",
       " 'Q11fiveyears__1',\n",
       " 'Q11fiveyears__2',\n",
       " 'Q11fiveyears__3',\n",
       " 'Q11fiveyears__4',\n",
       " 'Q11fiveyears__5',\n",
       " 'Q11fiveyears__6',\n",
       " 'Q11fiveyears__7',\n",
       " 'Q12A1Exp',\n",
       " 'Q12A2Many',\n",
       " 'Q12A3When__1',\n",
       " 'Q12A3When__2',\n",
       " 'Q12A3When__3',\n",
       " 'Q12A3When__4',\n",
       " 'Q12A3When__5',\n",
       " 'Q12A3When__6',\n",
       " 'Q12A3When__7',\n",
       " 'Q12A3When__8',\n",
       " 'Q12A3When__9',\n",
       " 'Q12A3When__10',\n",
       " 'Q12A3When__11',\n",
       " 'Q12A3When__12',\n",
       " 'Q12A4Report',\n",
       " 'Q12A5WhyNot',\n",
       " 'Q12B1Exp',\n",
       " 'Q12B2Many',\n",
       " 'Q12B3When__1',\n",
       " 'Q12B3When__2',\n",
       " 'Q12B3When__3',\n",
       " 'Q12B3When__4',\n",
       " 'Q12B3When__5',\n",
       " 'Q12B3When__6',\n",
       " 'Q12B3When__7',\n",
       " 'Q12B3When__8',\n",
       " 'Q12B3When__9',\n",
       " 'Q12B3When__10',\n",
       " 'Q12B3When__11',\n",
       " 'Q12B3When__12',\n",
       " 'Q12B4Report',\n",
       " 'Q12B5WhyNot',\n",
       " 'Q12C1Exp',\n",
       " 'Q12C2Many',\n",
       " 'Q12C3When__1',\n",
       " 'Q12C3When__2',\n",
       " 'Q12C3When__3',\n",
       " 'Q12C3When__4',\n",
       " 'Q12C3When__5',\n",
       " 'Q12C3When__6',\n",
       " 'Q12C3When__7',\n",
       " 'Q12C3When__8',\n",
       " 'Q12C3When__9',\n",
       " 'Q12C3When__10',\n",
       " 'Q12C3When__11',\n",
       " 'Q12C3When__12',\n",
       " 'Q12C4Report',\n",
       " 'Q12C5Whynot',\n",
       " 'Q12D1Exp',\n",
       " 'Q12D2Lostlives',\n",
       " 'Q12D3When__1',\n",
       " 'Q12D3When__2',\n",
       " 'Q12D3When__3',\n",
       " 'Q12D3When__4',\n",
       " 'Q12D3When__5',\n",
       " 'Q12D3When__6',\n",
       " 'Q12D3When__7',\n",
       " 'Q12D3When__8',\n",
       " 'Q12D3When__9',\n",
       " 'Q12D3When__10',\n",
       " 'Q12D3When__11',\n",
       " 'Q12D3When__12',\n",
       " 'Q12D4Report',\n",
       " 'Q12D5WhyNot',\n",
       " 'Q12E1Exp',\n",
       " 'Q12E2Many',\n",
       " 'Q12E3When__1',\n",
       " 'Q12E3When__2',\n",
       " 'Q12E3When__3',\n",
       " 'Q12E3When__4',\n",
       " 'Q12E3When__5',\n",
       " 'Q12E3When__6',\n",
       " 'Q12E3When__7',\n",
       " 'Q12E3When__8',\n",
       " 'Q12E3When__9',\n",
       " 'Q12E3When__10',\n",
       " 'Q12E3When__11',\n",
       " 'Q12E3When__12',\n",
       " 'Q12E4Report',\n",
       " 'Q12E5WhyNot',\n",
       " 'Q12F1Exp',\n",
       " 'Q12F2Many',\n",
       " 'Q12F3When__1',\n",
       " 'Q12F3When__2',\n",
       " 'Q12F3When__3',\n",
       " 'Q12F3When__4',\n",
       " 'Q12F3When__5',\n",
       " 'Q12F3When__6',\n",
       " 'Q12F3When__7',\n",
       " 'Q12F3When__8',\n",
       " 'Q12F3When__9',\n",
       " 'Q12F3When__10',\n",
       " 'Q12F3When__11',\n",
       " 'Q12F3When__12',\n",
       " 'Q12F4Report',\n",
       " 'Q12F5WhyNot',\n",
       " 'Q12G2Exp',\n",
       " 'Q12G3Many',\n",
       " 'Q12G4When__1',\n",
       " 'Q12G4When__2',\n",
       " 'Q12G4When__3',\n",
       " 'Q12G4When__4',\n",
       " 'Q12G4When__5',\n",
       " 'Q12G4When__6',\n",
       " 'Q12G4When__7',\n",
       " 'Q12G4When__8',\n",
       " 'Q12G4When__9',\n",
       " 'Q12G4When__10',\n",
       " 'Q12G4When__11',\n",
       " 'Q12G4When__12',\n",
       " 'Q12G5Report',\n",
       " 'Q12G6WhyNot',\n",
       " 'hhld_cal_abwgt']"
      ]
     },
     "execution_count": 14,
     "metadata": {},
     "output_type": "execute_result"
    }
   ],
   "source": [
    "household.columns.tolist()"
   ]
  },
  {
   "cell_type": "markdown",
   "id": "d82f4c57",
   "metadata": {},
   "source": [
    "## Households Analysis\n"
   ]
  },
  {
   "cell_type": "code",
   "execution_count": 20,
   "id": "c78eb631",
   "metadata": {},
   "outputs": [
    {
     "data": {
      "text/plain": [
       "Urban          7134\n",
       "Traditional    4752\n",
       "Farms           428\n",
       "Name: Geo_type_code, dtype: int64"
      ]
     },
     "execution_count": 20,
     "metadata": {},
     "output_type": "execute_result"
    }
   ],
   "source": [
    "household['Geo_type_code'].value_counts()"
   ]
  },
  {
   "cell_type": "code",
   "execution_count": 21,
   "id": "286767c5",
   "metadata": {},
   "outputs": [
    {
     "data": {
      "text/plain": [
       "Female    6279\n",
       "Male      6035\n",
       "Name: head_sex, dtype: int64"
      ]
     },
     "execution_count": 21,
     "metadata": {},
     "output_type": "execute_result"
    }
   ],
   "source": [
    "household['head_sex'].value_counts()"
   ]
  },
  {
   "cell_type": "code",
   "execution_count": 22,
   "id": "56538995",
   "metadata": {},
   "outputs": [
    {
     "data": {
      "text/plain": [
       "46     315\n",
       "52     290\n",
       "41     284\n",
       "47     280\n",
       "51     279\n",
       "      ... \n",
       "101      2\n",
       "0        1\n",
       "14       1\n",
       "102      1\n",
       "107      1\n",
       "Name: head_age, Length: 91, dtype: int64"
      ]
     },
     "execution_count": 22,
     "metadata": {},
     "output_type": "execute_result"
    }
   ],
   "source": [
    "household['head_age'].value_counts()"
   ]
  },
  {
   "cell_type": "code",
   "execution_count": 23,
   "id": "03a51f81",
   "metadata": {},
   "outputs": [
    {
     "data": {
      "text/plain": [
       "Black African    10617\n",
       "Coloured           891\n",
       "White              589\n",
       "Indian/Asian       217\n",
       "Name: head_population, dtype: int64"
      ]
     },
     "execution_count": 23,
     "metadata": {},
     "output_type": "execute_result"
    }
   ],
   "source": [
    "household['head_population'].value_counts()"
   ]
  },
  {
   "cell_type": "code",
   "execution_count": 24,
   "id": "7489e139",
   "metadata": {},
   "outputs": [
    {
     "data": {
      "text/plain": [
       "Single, but have been living together with someone as husband/wife before    4668\n",
       "Married                                                                      3709\n",
       "Widowed                                                                      2255\n",
       "Living together like husband and wife                                        1160\n",
       "Divorced                                                                      328\n",
       "Separated, but still legally married                                          169\n",
       "Unspecified                                                                    25\n",
       "Name: Maritalstatus, dtype: int64"
      ]
     },
     "execution_count": 24,
     "metadata": {},
     "output_type": "execute_result"
    }
   ],
   "source": [
    "household['Maritalstatus'].value_counts()"
   ]
  },
  {
   "cell_type": "code",
   "execution_count": 25,
   "id": "49296d07",
   "metadata": {},
   "outputs": [
    {
     "data": {
      "text/plain": [
       "Grade 12/Standard 10/Form 5/Matric                                                                2972\n",
       "Grade 11/Standard 9/Form 4                                                                        1325\n",
       "Grade 10/Standard 8/Form 3                                                                        1223\n",
       "No schooling                                                                                       965\n",
       "Grade 8/Standard 6/Form 1                                                                          902\n",
       "Grade 7/Standard 5/AET 3                                                                           742\n",
       "Grade 9/Standard 7/Form 2/AET 4                                                                    682\n",
       "Diploma with Grade 12/Std 10/Occupational Certificate-NQF Level 6                                  527\n",
       "Grade 6/Standard 4                                                                                 456\n",
       "Bachelor's Degree and post/ Occupational Certificate-NQF Level 7                                   348\n",
       "Grade 4/Standard 2                                                                                 334\n",
       "Grade 5/Standard 3/AET 2                                                                           331\n",
       "Grade 3/Standard 1/ABET1/AET 1                                                                     253\n",
       "Do not know                                                                                        243\n",
       "Grade 2/Sub B/Class 2                                                                              180\n",
       "Higher/National/Advanced Certificate with Grade 12/Std 10/Occupational Certificate-NQF Level 5     134\n",
       "Higher Diploma/Occupational Certificate(B-Tech Diploma)-NQF Level 7                                110\n",
       "Honours Degree/Postgraduate Diploma/Occupational Certificate-NQF Level 8                           109\n",
       "Grade 1/Sub A/Class 1                                                                               95\n",
       "Post Higher Diploma (Masters Diploma and Master's Degree)-NQF Level 9                               91\n",
       "N6/NTC 6                                                                                            45\n",
       "N4/NTC 4                                                                                            45\n",
       "NTC 3/N3/NC (V)/Level 4                                                                             30\n",
       "Unspecified                                                                                         28\n",
       "Doctoral Degrees (Doctoral Diploma and PhD)-NQF Level 10                                            26\n",
       "N5/NTC 5                                                                                            24\n",
       "Certificate with less than Grade 12/Std 10                                                          24\n",
       "Other(specify)                                                                                      20\n",
       "Diploma with less than Grade 12/Std 10                                                              18\n",
       "Grade R/0                                                                                           15\n",
       "NTC 2/N2/NC (V)/Level 3                                                                             12\n",
       "NTC 1/N1                                                                                             5\n",
       "Name: Education, dtype: int64"
      ]
     },
     "execution_count": 25,
     "metadata": {},
     "output_type": "execute_result"
    }
   ],
   "source": [
    "household['Education'].value_counts()"
   ]
  },
  {
   "cell_type": "code",
   "execution_count": 26,
   "id": "03ec8588",
   "metadata": {},
   "outputs": [
    {
     "data": {
      "text/plain": [
       "Salaries and wages                                                                                                  4862\n",
       "Social grants (including old age grant)                                                                             3098\n",
       "Unspecified                                                                                                         1345\n",
       "Net profit from business or professional practice/ activities of commercial farming                                  889\n",
       "10                                                                                                                   750\n",
       "Regular allowance/ remittances received from non-household members                                                   544\n",
       " Regular payments from pension fund from previous employment and pension from annuity  funds                         453\n",
       "Maintenance, spousal support and similar allowances from divorced spouse, family members, etc., living elsewhere     231\n",
       "Income from letting of fixed property                                                                                 58\n",
       "Other income (e.g. royalties, interest, dividends on shares, income from share trading)                               56\n",
       "Income from subsistence farming                                                                                       28\n",
       "Name: IncomeMa, dtype: int64"
      ]
     },
     "execution_count": 26,
     "metadata": {},
     "output_type": "execute_result"
    }
   ],
   "source": [
    "household['IncomeMa'].value_counts()"
   ]
  },
  {
   "cell_type": "code",
   "execution_count": 27,
   "id": "d036a2b9",
   "metadata": {},
   "outputs": [
    {
     "data": {
      "text/plain": [
       "KwaZulu-Natal    2599\n",
       "Gauteng          2060\n",
       "Eastern Cape     1900\n",
       "Limpopo          1602\n",
       "Western Cape     1053\n",
       "Mpumalanga       1026\n",
       "North West        811\n",
       "Free State        709\n",
       "Northern Cape     554\n",
       "Name: prov, dtype: int64"
      ]
     },
     "execution_count": 27,
     "metadata": {},
     "output_type": "execute_result"
    }
   ],
   "source": [
    "household['prov'].value_counts()"
   ]
  },
  {
   "cell_type": "code",
   "execution_count": null,
   "id": "dbc2437a",
   "metadata": {},
   "outputs": [],
   "source": []
  },
  {
   "cell_type": "code",
   "execution_count": null,
   "id": "ad5e4366",
   "metadata": {},
   "outputs": [],
   "source": []
  },
  {
   "cell_type": "markdown",
   "id": "96de75b5",
   "metadata": {},
   "source": [
    "***"
   ]
  },
  {
   "cell_type": "code",
   "execution_count": 28,
   "id": "51d12c05",
   "metadata": {},
   "outputs": [
    {
     "data": {
      "text/plain": [
       "['Uqno',\n",
       " 'Person_id',\n",
       " 'Personno',\n",
       " 'Prov',\n",
       " 'Metro_code',\n",
       " 'PSUNO_Seg',\n",
       " 'Stratum',\n",
       " 'Geo_type_code',\n",
       " 'Sex',\n",
       " 'Age',\n",
       " 'Population',\n",
       " 'Reltohead',\n",
       " 'MARITALSTATUS',\n",
       " 'Education',\n",
       " 'IncomeSo__1',\n",
       " 'IncomeSo__2',\n",
       " 'IncomeSo__3',\n",
       " 'IncomeSo__4',\n",
       " 'IncomeSo__5',\n",
       " 'IncomeSo__6',\n",
       " 'IncomeSo__7',\n",
       " 'IncomeSo__8',\n",
       " 'IncomeSo__9',\n",
       " 'IncomeSo__10',\n",
       " 'IncomeSo__11',\n",
       " 'IncomeMa',\n",
       " 'Q21HeardConst',\n",
       " 'Q22ConProtRigt',\n",
       " 'Q23ConProtRigtOther',\n",
       " 'Q24SABillRights',\n",
       " 'Q25DisTypes__1',\n",
       " 'Q25DisTypes__2',\n",
       " 'Q25DisTypes__3',\n",
       " 'Q25DisTypes__4',\n",
       " 'Q25DisTypes__5',\n",
       " 'Q25DisTypes__6',\n",
       " 'Q25DisTypes__7',\n",
       " 'Q25DisTypes__8',\n",
       " 'Q25DisTypes__9',\n",
       " 'Q25DisTypes__10',\n",
       " 'Q25DisTypes__11',\n",
       " 'Q25DisTypes__12',\n",
       " 'Q25DisTypes__13',\n",
       " 'Q25DisTypes__14',\n",
       " 'Q26DisTypes__1',\n",
       " 'Q26DisTypes__2',\n",
       " 'Q26DisTypes__3',\n",
       " 'Q26DisTypes__4',\n",
       " 'Q26DisTypes__5',\n",
       " 'Q26DisTypes__6',\n",
       " 'Q26DisTypes__7',\n",
       " 'Q26DisTypes__8',\n",
       " 'Q26DisTypes__9',\n",
       " 'Q26DisTypes__10',\n",
       " 'Q26DisTypes__11',\n",
       " 'Q26DisTypes__12',\n",
       " 'Q26DisTypes__13',\n",
       " 'Q26DisTypes__14',\n",
       " 'Q27SayinGov',\n",
       " 'Q28Influence',\n",
       " 'Q31DisputeProb__1',\n",
       " 'Q31DisputeProb__2',\n",
       " 'Q31DisputeProb__3',\n",
       " 'Q31DisputeProb__4',\n",
       " 'Q31DisputeProb__5',\n",
       " 'Q31DisputeProb__6',\n",
       " 'Q31DisputeProb__7',\n",
       " 'Q31DisputeProb__8',\n",
       " 'Q31DisputeProb__9',\n",
       " 'Q31DisputeProb__10',\n",
       " 'Q31DisputeProb__11',\n",
       " 'Q31DisputeProb__12',\n",
       " 'Q31DisputeProb__13',\n",
       " 'Q31DisputeProb__14',\n",
       " 'Q31DisputeProb__15',\n",
       " 'Q31DisputeProb__16',\n",
       " 'Q32AInheritance',\n",
       " 'Q32BDomestic',\n",
       " 'Q32CChildren',\n",
       " 'Q32DNeighbours',\n",
       " 'Q32EMoneyowed',\n",
       " 'Q32FUnfairfees',\n",
       " 'Q32GUnathorised',\n",
       " 'Q32HSocialbenef',\n",
       " 'Q32IAccesserv',\n",
       " 'Q32JPoorserv',\n",
       " 'Q32KCorruption',\n",
       " 'Q32LEmployPrac',\n",
       " 'Q32MBullying',\n",
       " 'Q32NTenantLandlod',\n",
       " 'Q32OLandProperty',\n",
       " 'Q33Mostrecent',\n",
       " 'Q34Intervene__1',\n",
       " 'Q34Intervene__2',\n",
       " 'Q34Intervene__3',\n",
       " 'Q34Intervene__4',\n",
       " 'Q34Intervene__5',\n",
       " 'Q34Intervene__6',\n",
       " 'Q34Intervene__7',\n",
       " 'Q34Intervene__8',\n",
       " 'Q35Didnotseek',\n",
       " 'Q36Exp_prob__1',\n",
       " 'Q36Exp_prob__2',\n",
       " 'Q36Exp_prob__3',\n",
       " 'Q36Exp_prob__4',\n",
       " 'Q36Exp_prob__5',\n",
       " 'Q36Exp_prob__6',\n",
       " 'Q36Exp_prob__7',\n",
       " 'Q36Exp_prob__8',\n",
       " 'Q41WalkAloneDark',\n",
       " 'Q42WalkAloneDay',\n",
       " 'Q43ProtctSelfCrime',\n",
       " 'Q44WhatWay',\n",
       " 'Q45WhyNot',\n",
       " 'Q46CommitCrime',\n",
       " 'Q51past5yrs__1',\n",
       " 'Q51past5yrs__2',\n",
       " 'Q51past5yrs__3',\n",
       " 'Q51past5yrs__4',\n",
       " 'Q51past5yrs__5',\n",
       " 'Q51A1Exp',\n",
       " 'Q51A2Many',\n",
       " 'Q51A3When__1',\n",
       " 'Q51A3When__2',\n",
       " 'Q51A3When__3',\n",
       " 'Q51A3When__4',\n",
       " 'Q51A3When__5',\n",
       " 'Q51A3When__6',\n",
       " 'Q51A3When__7',\n",
       " 'Q51A3When__8',\n",
       " 'Q51A3When__9',\n",
       " 'Q51A3When__10',\n",
       " 'Q51A3When__11',\n",
       " 'Q51A3When__12',\n",
       " 'Q51A4Report',\n",
       " 'Q51A5WhyNot',\n",
       " 'Q51B1Exp',\n",
       " 'Q51B2Many',\n",
       " 'Q51B3When__1',\n",
       " 'Q51B3When__2',\n",
       " 'Q51B3When__3',\n",
       " 'Q51B3When__4',\n",
       " 'Q51B3When__5',\n",
       " 'Q51B3When__6',\n",
       " 'Q51B3When__7',\n",
       " 'Q51B3When__8',\n",
       " 'Q51B3When__9',\n",
       " 'Q51B3When__10',\n",
       " 'Q51B3When__11',\n",
       " 'Q51B3When__12',\n",
       " 'Q51B4Report',\n",
       " 'Q51B5WhyNot',\n",
       " 'Q51C1Exp',\n",
       " 'Q51C2Many',\n",
       " 'Q51C3When__1',\n",
       " 'Q51C3When__2',\n",
       " 'Q51C3When__3',\n",
       " 'Q51C3When__4',\n",
       " 'Q51C3When__5',\n",
       " 'Q51C3When__6',\n",
       " 'Q51C3When__7',\n",
       " 'Q51C3When__8',\n",
       " 'Q51C3When__9',\n",
       " 'Q51C3When__10',\n",
       " 'Q51C3When__11',\n",
       " 'Q51C3When__12',\n",
       " 'Q51C4Report',\n",
       " 'Q51C5WhyNot',\n",
       " 'Q51D1Exp',\n",
       " 'Q51D2Many',\n",
       " 'Q51D3When__1',\n",
       " 'Q51D3When__2',\n",
       " 'Q51D3When__3',\n",
       " 'Q51D3When__4',\n",
       " 'Q51D3When__5',\n",
       " 'Q51D3When__6',\n",
       " 'Q51D3When__7',\n",
       " 'Q51D3When__8',\n",
       " 'Q51D3When__9',\n",
       " 'Q51D3When__10',\n",
       " 'Q51D3When__11',\n",
       " 'Q51D3When__12',\n",
       " 'Q51D4Report',\n",
       " 'Q51D5WhyNot',\n",
       " 'Q51E1Exp',\n",
       " 'Q51E2Many',\n",
       " 'Q51E3Year__1',\n",
       " 'Q51E3Year__2',\n",
       " 'Q51E3Year__3',\n",
       " 'Q51E3Year__4',\n",
       " 'Q51E3Year__5',\n",
       " 'Q51E3Year__6',\n",
       " 'Q51E3Year__7',\n",
       " 'Q51E3Year__8',\n",
       " 'Q51E3Year__9',\n",
       " 'Q51E3Year__10',\n",
       " 'Q51E3Year__11',\n",
       " 'Q51E3Year__12',\n",
       " 'Q51E4Report',\n",
       " 'Q51E5WhyNot',\n",
       " 'indv_cal_abwgt']"
      ]
     },
     "execution_count": 28,
     "metadata": {},
     "output_type": "execute_result"
    }
   ],
   "source": [
    "individual.columns.tolist()"
   ]
  },
  {
   "cell_type": "markdown",
   "id": "273a1608",
   "metadata": {},
   "source": [
    "## Individuals Analysis"
   ]
  },
  {
   "cell_type": "code",
   "execution_count": 32,
   "id": "ff2a93d6",
   "metadata": {},
   "outputs": [
    {
     "data": {
      "text/plain": [
       "Head/acting head                                      12308\n",
       "Brother/sister/stepbrother/stepsister of person 01        1\n",
       "Name: Reltohead, dtype: int64"
      ]
     },
     "execution_count": 32,
     "metadata": {},
     "output_type": "execute_result"
    }
   ],
   "source": [
    "individual['Reltohead'].value_counts()"
   ]
  },
  {
   "cell_type": "code",
   "execution_count": null,
   "id": "e72c3f23",
   "metadata": {},
   "outputs": [],
   "source": []
  }
 ],
 "metadata": {
  "kernelspec": {
   "display_name": "Python 3 (ipykernel)",
   "language": "python",
   "name": "python3"
  },
  "language_info": {
   "codemirror_mode": {
    "name": "ipython",
    "version": 3
   },
   "file_extension": ".py",
   "mimetype": "text/x-python",
   "name": "python",
   "nbconvert_exporter": "python",
   "pygments_lexer": "ipython3",
   "version": "3.9.12"
  }
 },
 "nbformat": 4,
 "nbformat_minor": 5
}
